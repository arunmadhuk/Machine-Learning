{
 "cells": [
  {
   "cell_type": "markdown",
   "metadata": {},
   "source": [
    "# Thamil News Classification Dataset\n",
    "\n",
    "##### Context\n",
    "This dataset contains about 127k news articles along with their respective categories which can be used to evaluate your Thamil text classifier performance.\n",
    "\n",
    "##### Content\n",
    "The data is acquired by scrapping the publicly available articles published on Tamilmurasu.org, which is a well-known newspaper in Tamil nadu, India. The dataset contains articles from 06/01/2011 - 06/01/2020.\n",
    "\n",
    "##### Acknowledgements\n",
    "This dataset exists because of Tamilmurasu.org. All thanks to them."
   ]
  },
  {
   "cell_type": "markdown",
   "metadata": {},
   "source": [
    "Kaggle data link : https://www.kaggle.com/vijayabhaskar96/tamil-news-classification-dataset-tamilmurasu"
   ]
  },
  {
   "cell_type": "markdown",
   "metadata": {},
   "source": [
    "Kaggle Reference : https://www.kaggle.com/krishnarajj/tamil-news-classification"
   ]
  },
  {
   "cell_type": "code",
   "execution_count": 1,
   "metadata": {},
   "outputs": [],
   "source": [
    "import pandas as pd\n",
    "import numpy as np\n",
    "\n",
    "import matplotlib.pyplot as plt\n",
    "\n",
    "#https://advertools.readthedocs.io/en/master/advertools.stopwords.html\n",
    "#Install the advertools library which has the inbuilt stopwords for many languages pip install advertools\n",
    "import advertools as adv\n",
    "\n",
    "from nltk.tokenize import word_tokenize\n",
    "\n",
    "from sklearn.model_selection import train_test_split\n",
    "from sklearn.metrics import mean_squared_error\n",
    "\n",
    "from sklearn.feature_extraction.text import TfidfVectorizer\n",
    "from sklearn.feature_extraction.text import CountVectorizer"
   ]
  },
  {
   "cell_type": "code",
   "execution_count": 2,
   "metadata": {},
   "outputs": [],
   "source": [
    "df = pd.read_csv('/Volumes/SARUN/ML - Date Sets/Tamil News Classification/tamilmurasu_dataset.csv')\n",
    "vector = TfidfVectorizer()"
   ]
  },
  {
   "cell_type": "code",
   "execution_count": 3,
   "metadata": {},
   "outputs": [
    {
     "name": "stdout",
     "output_type": "stream",
     "text": [
      "<class 'pandas.core.frame.DataFrame'>\n",
      "RangeIndex: 126746 entries, 0 to 126745\n",
      "Data columns (total 5 columns):\n",
      " #   Column         Non-Null Count   Dtype \n",
      "---  ------         --------------   ----- \n",
      " 0   news_id        126746 non-null  int64 \n",
      " 1   news_date      126746 non-null  object\n",
      " 2   news_category  126746 non-null  object\n",
      " 3   news_title     126746 non-null  object\n",
      " 4   news_article   126746 non-null  object\n",
      "dtypes: int64(1), object(4)\n",
      "memory usage: 4.8+ MB\n"
     ]
    }
   ],
   "source": [
    "df.info()"
   ]
  },
  {
   "cell_type": "code",
   "execution_count": 4,
   "metadata": {},
   "outputs": [
    {
     "data": {
      "text/html": [
       "<div>\n",
       "<style scoped>\n",
       "    .dataframe tbody tr th:only-of-type {\n",
       "        vertical-align: middle;\n",
       "    }\n",
       "\n",
       "    .dataframe tbody tr th {\n",
       "        vertical-align: top;\n",
       "    }\n",
       "\n",
       "    .dataframe thead th {\n",
       "        text-align: right;\n",
       "    }\n",
       "</style>\n",
       "<table border=\"1\" class=\"dataframe\">\n",
       "  <thead>\n",
       "    <tr style=\"text-align: right;\">\n",
       "      <th></th>\n",
       "      <th>news_id</th>\n",
       "      <th>news_date</th>\n",
       "      <th>news_category</th>\n",
       "      <th>news_title</th>\n",
       "      <th>news_article</th>\n",
       "    </tr>\n",
       "  </thead>\n",
       "  <tbody>\n",
       "    <tr>\n",
       "      <th>0</th>\n",
       "      <td>6</td>\n",
       "      <td>1/6/2011 2:45:49 PM</td>\n",
       "      <td>மர்மம்</td>\n",
       "      <td>தூக்கில் தொங்கும் சேவல்கள் திருடர்களை காவு வாங...</td>\n",
       "      <td>நாலு ஆள் உயரம், முறுக்கு மீசை, கையில் வீச்சரிவ...</td>\n",
       "    </tr>\n",
       "    <tr>\n",
       "      <th>1</th>\n",
       "      <td>9</td>\n",
       "      <td>1/6/2011 2:56:51 PM</td>\n",
       "      <td>மர்மம்</td>\n",
       "      <td>பவுர்ணமி ஜாமத்தில் மாயமான கர்ப்பிணி</td>\n",
       "      <td>அமானுஷ்யமான சம்பவங்கள் நம்மை சுற்றி ஆங்காங்கே ...</td>\n",
       "    </tr>\n",
       "    <tr>\n",
       "      <th>2</th>\n",
       "      <td>10</td>\n",
       "      <td>1/6/2011 3:02:00 PM</td>\n",
       "      <td>இந்தியா</td>\n",
       "      <td>காமன்வெல்த் ஊழல்: சுரேஷ் கல்மாடியிடம் 102 கேள்...</td>\n",
       "      <td>காமன்வெல்த் போட்டி ஏற்பாட்டில் நடைபெற்ற முறைகே...</td>\n",
       "    </tr>\n",
       "    <tr>\n",
       "      <th>3</th>\n",
       "      <td>11</td>\n",
       "      <td>1/6/2011 3:08:15 PM</td>\n",
       "      <td>மர்மம்</td>\n",
       "      <td>மச்சுபிச்சு மலை ரகசியம்</td>\n",
       "      <td>தென்அமெரிக்க நாடான பெருவில் காடுகள் மிகவும் பய...</td>\n",
       "    </tr>\n",
       "    <tr>\n",
       "      <th>4</th>\n",
       "      <td>12</td>\n",
       "      <td>1/6/2011 3:09:20 PM</td>\n",
       "      <td>மர்மம்</td>\n",
       "      <td>ரத்த பலி வாங்கும் விபரீத ஆவி!</td>\n",
       "      <td>கடந்த 18ம் தேதி சாயங்காலம்... அடைமழையை கிழித்த...</td>\n",
       "    </tr>\n",
       "  </tbody>\n",
       "</table>\n",
       "</div>"
      ],
      "text/plain": [
       "   news_id            news_date news_category  \\\n",
       "0        6  1/6/2011 2:45:49 PM        மர்மம்   \n",
       "1        9  1/6/2011 2:56:51 PM        மர்மம்   \n",
       "2       10  1/6/2011 3:02:00 PM       இந்தியா   \n",
       "3       11  1/6/2011 3:08:15 PM        மர்மம்   \n",
       "4       12  1/6/2011 3:09:20 PM        மர்மம்   \n",
       "\n",
       "                                          news_title  \\\n",
       "0  தூக்கில் தொங்கும் சேவல்கள் திருடர்களை காவு வாங...   \n",
       "1                பவுர்ணமி ஜாமத்தில் மாயமான கர்ப்பிணி   \n",
       "2  காமன்வெல்த் ஊழல்: சுரேஷ் கல்மாடியிடம் 102 கேள்...   \n",
       "3                            மச்சுபிச்சு மலை ரகசியம்   \n",
       "4                      ரத்த பலி வாங்கும் விபரீத ஆவி!   \n",
       "\n",
       "                                        news_article  \n",
       "0  நாலு ஆள் உயரம், முறுக்கு மீசை, கையில் வீச்சரிவ...  \n",
       "1  அமானுஷ்யமான சம்பவங்கள் நம்மை சுற்றி ஆங்காங்கே ...  \n",
       "2  காமன்வெல்த் போட்டி ஏற்பாட்டில் நடைபெற்ற முறைகே...  \n",
       "3  தென்அமெரிக்க நாடான பெருவில் காடுகள் மிகவும் பய...  \n",
       "4  கடந்த 18ம் தேதி சாயங்காலம்... அடைமழையை கிழித்த...  "
      ]
     },
     "execution_count": 4,
     "metadata": {},
     "output_type": "execute_result"
    }
   ],
   "source": [
    "df.head()"
   ]
  },
  {
   "cell_type": "code",
   "execution_count": 5,
   "metadata": {},
   "outputs": [
    {
     "data": {
      "text/plain": [
       "['அங்கு', 'அங்கே', 'அடுத்த', 'அதனால்', 'அதன்']"
      ]
     },
     "execution_count": 5,
     "metadata": {},
     "output_type": "execute_result"
    }
   ],
   "source": [
    "# list the available languages\n",
    "adv.stopwords.keys()\n",
    "# First 5 stop words\n",
    "sorted (adv.stopwords['tamil'])[:5]"
   ]
  },
  {
   "cell_type": "code",
   "execution_count": 6,
   "metadata": {},
   "outputs": [
    {
     "name": "stdout",
     "output_type": "stream",
     "text": [
      "['மர்மம்' 'இந்தியா' 'விளையாட்டு' 'ஆன்மீகம்' 'தொழில்' 'சினிமா(ரீல்மா)'\n",
      " 'உலகம்' 'கல்வி' 'குற்றம்' 'ஸ்டேட் எக்ஸ்பிரஸ்' 'தலையங்கம்' 'மாவட்ட மசாலா'\n",
      " 'தமிழகம்' 'வேலைவாய்ப்பு' 'மருத்துவம்']\n"
     ]
    }
   ],
   "source": [
    "unique_news_cat = df['news_category'].unique()\n",
    "print(unique_news_cat)"
   ]
  },
  {
   "cell_type": "code",
   "execution_count": 7,
   "metadata": {},
   "outputs": [],
   "source": [
    "df['news_category_id'] = df.groupby(['news_category']).ngroup()\n",
    "new_df = df[\"news_category_id\"].value_counts()"
   ]
  },
  {
   "cell_type": "code",
   "execution_count": 8,
   "metadata": {},
   "outputs": [
    {
     "data": {
      "text/plain": [
       "<matplotlib.axes._subplots.AxesSubplot at 0x7feea2c79ac0>"
      ]
     },
     "execution_count": 8,
     "metadata": {},
     "output_type": "execute_result"
    },
    {
     "data": {
      "image/png": "[encoded data removed]",
      "text/plain": [
       "<Figure size 432x288 with 1 Axes>"
      ]
     },
     "metadata": {
      "needs_background": "light"
     },
     "output_type": "display_data"
    }
   ],
   "source": [
    "new_df.plot.bar()"
   ]
  },
  {
   "cell_type": "code",
   "execution_count": 9,
   "metadata": {},
   "outputs": [
    {
     "name": "stdout",
     "output_type": "stream",
     "text": [
      "தமிழகம்              53333\n",
      "இந்தியா              16935\n",
      "குற்றம்              16290\n",
      "சினிமா(ரீல்மா)        9248\n",
      "மாவட்ட மசாலா          9079\n",
      "விளையாட்டு            8230\n",
      "உலகம்                 7477\n",
      "ஸ்டேட் எக்ஸ்பிரஸ்     2253\n",
      "தலையங்கம்             1535\n",
      "வேலைவாய்ப்பு          1042\n",
      "மருத்துவம்             544\n",
      "ஆன்மீகம்               406\n",
      "கல்வி                  240\n",
      "தொழில்                  68\n",
      "மர்மம்                  66\n",
      "Name: news_category, dtype: int64\n"
     ]
    }
   ],
   "source": [
    "print(df['news_category'].value_counts())"
   ]
  },
  {
   "cell_type": "code",
   "execution_count": 10,
   "metadata": {},
   "outputs": [
    {
     "name": "stdout",
     "output_type": "stream",
     "text": [
      "<class 'pandas.core.frame.DataFrame'>\n",
      "RangeIndex: 126746 entries, 0 to 126745\n",
      "Data columns (total 6 columns):\n",
      " #   Column            Non-Null Count   Dtype \n",
      "---  ------            --------------   ----- \n",
      " 0   news_id           126746 non-null  int64 \n",
      " 1   news_date         126746 non-null  object\n",
      " 2   news_category     126746 non-null  object\n",
      " 3   news_title        126746 non-null  object\n",
      " 4   news_article      126746 non-null  object\n",
      " 5   news_category_id  126746 non-null  int64 \n",
      "dtypes: int64(2), object(4)\n",
      "memory usage: 5.8+ MB\n"
     ]
    }
   ],
   "source": [
    "df.info()"
   ]
  },
  {
   "cell_type": "markdown",
   "metadata": {},
   "source": [
    "##### Drop the categories with less than 1000 entires\n",
    "மருத்துவம், ஆன்மீகம், கல்வி, தொழில், மர்மம்"
   ]
  },
  {
   "cell_type": "code",
   "execution_count": 11,
   "metadata": {},
   "outputs": [],
   "source": [
    "to_drop_array = [\"மருத்துவம்\", \"ஆன்மீகம்\", \"கல்வி\", \"தொழில்\", \"மர்மம்\"]"
   ]
  },
  {
   "cell_type": "code",
   "execution_count": 14,
   "metadata": {},
   "outputs": [
    {
     "name": "stdout",
     "output_type": "stream",
     "text": [
      "<class 'pandas.core.frame.DataFrame'>\n",
      "RangeIndex: 125422 entries, 0 to 125421\n",
      "Data columns (total 6 columns):\n",
      " #   Column            Non-Null Count   Dtype \n",
      "---  ------            --------------   ----- \n",
      " 0   news_id           125422 non-null  int64 \n",
      " 1   news_date         125422 non-null  object\n",
      " 2   news_category     125422 non-null  object\n",
      " 3   news_title        125422 non-null  object\n",
      " 4   news_article      125422 non-null  object\n",
      " 5   news_category_id  125422 non-null  int64 \n",
      "dtypes: int64(2), object(4)\n",
      "memory usage: 5.7+ MB\n"
     ]
    }
   ],
   "source": [
    "for drop_data in to_drop_array:\n",
    "    drop_index = df[(df['news_category']==drop_data)].index\n",
    "    df = df.drop(labels=drop_index,axis=0)\n",
    "\n",
    "#drop_index = df[(df['news_category']=='ஆன்மீகம்')&(df['news_category']=='கல்வி')&(df['news_category']=='தொழில்')&(df['news_category']=='மர்மம்')].index\n",
    "df = df.reset_index(drop=True)\n",
    "df.info()"
   ]
  },
  {
   "cell_type": "code",
   "execution_count": 15,
   "metadata": {},
   "outputs": [
    {
     "name": "stdout",
     "output_type": "stream",
     "text": [
      "தமிழகம்              53333\n",
      "இந்தியா              16935\n",
      "குற்றம்              16290\n",
      "சினிமா(ரீல்மா)        9248\n",
      "மாவட்ட மசாலா          9079\n",
      "விளையாட்டு            8230\n",
      "உலகம்                 7477\n",
      "ஸ்டேட் எக்ஸ்பிரஸ்     2253\n",
      "தலையங்கம்             1535\n",
      "வேலைவாய்ப்பு          1042\n",
      "Name: news_category, dtype: int64\n"
     ]
    }
   ],
   "source": [
    "print(df['news_category'].value_counts())"
   ]
  },
  {
   "cell_type": "markdown",
   "metadata": {},
   "source": [
    "#### Cleaning the news title by removing the Punctuations,Numbers,Special symbols"
   ]
  },
  {
   "cell_type": "code",
   "execution_count": 16,
   "metadata": {},
   "outputs": [],
   "source": [
    "def word_cleaning(string):\n",
    "    punc = '!()-[]{};:\\'\"\\,<>/?@#$%^&*_~\\'0123456789+abcdefghijklmnopqrstuvwxyzABCDEFGHIJKLMNOPQRSTUVWXYZ'\n",
    "    for ele in string:\n",
    "        if ele in punc:\n",
    "            string = string.replace(ele, \"\")\n",
    "        #string = remove_stopwords(string)\n",
    "        #string = vectorized_string(string)\n",
    "        return string     \n"
   ]
  },
  {
   "cell_type": "code",
   "execution_count": 17,
   "metadata": {},
   "outputs": [
    {
     "name": "stderr",
     "output_type": "stream",
     "text": [
      "<ipython-input-17-6b16a2330b2f>:2: SettingWithCopyWarning: \n",
      "A value is trying to be set on a copy of a slice from a DataFrame\n",
      "\n",
      "See the caveats in the documentation: https://pandas.pydata.org/pandas-docs/stable/user_guide/indexing.html#returning-a-view-versus-a-copy\n",
      "  df['news_title'][i] = word_cleaning(df['news_title'][i])\n"
     ]
    }
   ],
   "source": [
    "for i in range(df['news_title'].count()):\n",
    "    df['news_title'][i] = word_cleaning(df['news_title'][i])"
   ]
  },
  {
   "cell_type": "code",
   "execution_count": 18,
   "metadata": {},
   "outputs": [
    {
     "data": {
      "text/html": [
       "<div>\n",
       "<style scoped>\n",
       "    .dataframe tbody tr th:only-of-type {\n",
       "        vertical-align: middle;\n",
       "    }\n",
       "\n",
       "    .dataframe tbody tr th {\n",
       "        vertical-align: top;\n",
       "    }\n",
       "\n",
       "    .dataframe thead th {\n",
       "        text-align: right;\n",
       "    }\n",
       "</style>\n",
       "<table border=\"1\" class=\"dataframe\">\n",
       "  <thead>\n",
       "    <tr style=\"text-align: right;\">\n",
       "      <th></th>\n",
       "      <th>news_id</th>\n",
       "      <th>news_date</th>\n",
       "      <th>news_category</th>\n",
       "      <th>news_title</th>\n",
       "      <th>news_article</th>\n",
       "      <th>news_category_id</th>\n",
       "    </tr>\n",
       "  </thead>\n",
       "  <tbody>\n",
       "    <tr>\n",
       "      <th>0</th>\n",
       "      <td>10</td>\n",
       "      <td>1/6/2011 3:02:00 PM</td>\n",
       "      <td>இந்தியா</td>\n",
       "      <td>காமன்வெல்த் ஊழல்: சுரேஷ் கல்மாடியிடம் 102 கேள்...</td>\n",
       "      <td>காமன்வெல்த் போட்டி ஏற்பாட்டில் நடைபெற்ற முறைகே...</td>\n",
       "      <td>1</td>\n",
       "    </tr>\n",
       "    <tr>\n",
       "      <th>1</th>\n",
       "      <td>21</td>\n",
       "      <td>1/6/2011 3:34:20 PM</td>\n",
       "      <td>விளையாட்டு</td>\n",
       "      <td>ஆஷஸ் டெஸ்ட் இங்கிலாந்து 644 ரன் குவிப்பு</td>\n",
       "      <td>சிட்னி: சிட்னியில் நடந்து வரும் ஆஷஸ் டெஸ்ட் தொ...</td>\n",
       "      <td>12</td>\n",
       "    </tr>\n",
       "    <tr>\n",
       "      <th>2</th>\n",
       "      <td>25</td>\n",
       "      <td>1/6/2011 3:42:20 PM</td>\n",
       "      <td>விளையாட்டு</td>\n",
       "      <td>நியூசி.-பாக். டெஸ்ட் நாளை துவக்கம்</td>\n",
       "      <td>பாகிஸ்தான் கிரிக்கெட் அணி நியூசிலாந்தில் சுற்ற...</td>\n",
       "      <td>12</td>\n",
       "    </tr>\n",
       "    <tr>\n",
       "      <th>3</th>\n",
       "      <td>29</td>\n",
       "      <td>1/6/2011 3:44:45 PM</td>\n",
       "      <td>விளையாட்டு</td>\n",
       "      <td>டெஸ்ட் போட்டிக்கு காலிங்வுட் குட்பை</td>\n",
       "      <td>இங்கிலாந்து அணியின் முன்னணி பேட்ஸ்மேன். பால் க...</td>\n",
       "      <td>12</td>\n",
       "    </tr>\n",
       "    <tr>\n",
       "      <th>4</th>\n",
       "      <td>31</td>\n",
       "      <td>1/6/2011 3:49:44 PM</td>\n",
       "      <td>விளையாட்டு</td>\n",
       "      <td>ஐசிசி கனவு அணியில் சச்சின், சேவாக், கபில்தேவ்</td>\n",
       "      <td>துபாய்: ஒருநாள் கிரிக்கெட் போட்டிகள் துவங்கப்ப...</td>\n",
       "      <td>12</td>\n",
       "    </tr>\n",
       "  </tbody>\n",
       "</table>\n",
       "</div>"
      ],
      "text/plain": [
       "   news_id            news_date news_category  \\\n",
       "0       10  1/6/2011 3:02:00 PM       இந்தியா   \n",
       "1       21  1/6/2011 3:34:20 PM    விளையாட்டு   \n",
       "2       25  1/6/2011 3:42:20 PM    விளையாட்டு   \n",
       "3       29  1/6/2011 3:44:45 PM    விளையாட்டு   \n",
       "4       31  1/6/2011 3:49:44 PM    விளையாட்டு   \n",
       "\n",
       "                                          news_title  \\\n",
       "0  காமன்வெல்த் ஊழல்: சுரேஷ் கல்மாடியிடம் 102 கேள்...   \n",
       "1           ஆஷஸ் டெஸ்ட் இங்கிலாந்து 644 ரன் குவிப்பு   \n",
       "2                 நியூசி.-பாக். டெஸ்ட் நாளை துவக்கம்   \n",
       "3                டெஸ்ட் போட்டிக்கு காலிங்வுட் குட்பை   \n",
       "4      ஐசிசி கனவு அணியில் சச்சின், சேவாக், கபில்தேவ்   \n",
       "\n",
       "                                        news_article  news_category_id  \n",
       "0  காமன்வெல்த் போட்டி ஏற்பாட்டில் நடைபெற்ற முறைகே...                 1  \n",
       "1  சிட்னி: சிட்னியில் நடந்து வரும் ஆஷஸ் டெஸ்ட் தொ...                12  \n",
       "2  பாகிஸ்தான் கிரிக்கெட் அணி நியூசிலாந்தில் சுற்ற...                12  \n",
       "3  இங்கிலாந்து அணியின் முன்னணி பேட்ஸ்மேன். பால் க...                12  \n",
       "4  துபாய்: ஒருநாள் கிரிக்கெட் போட்டிகள் துவங்கப்ப...                12  "
      ]
     },
     "execution_count": 18,
     "metadata": {},
     "output_type": "execute_result"
    }
   ],
   "source": [
    "df.head()"
   ]
  },
  {
   "cell_type": "markdown",
   "metadata": {},
   "source": [
    "#### Model Building"
   ]
  },
  {
   "cell_type": "code",
   "execution_count": 19,
   "metadata": {},
   "outputs": [],
   "source": [
    "X = df['news_title']\n",
    "Y = df['news_category']\n",
    "X_train, X_test, y_train, y_test = train_test_split(X, Y, test_size = 0.3, random_state = 101)"
   ]
  },
  {
   "cell_type": "code",
   "execution_count": 20,
   "metadata": {},
   "outputs": [
    {
     "name": "stderr",
     "output_type": "stream",
     "text": [
      "/Library/Frameworks/Python.framework/Versions/3.8/lib/python3.8/site-packages/sklearn/linear_model/_logistic.py:763: ConvergenceWarning: lbfgs failed to converge (status=1):\n",
      "STOP: TOTAL NO. of ITERATIONS REACHED LIMIT.\n",
      "\n",
      "Increase the number of iterations (max_iter) or scale the data as shown in:\n",
      "    https://scikit-learn.org/stable/modules/preprocessing.html\n",
      "Please also refer to the documentation for alternative solver options:\n",
      "    https://scikit-learn.org/stable/modules/linear_model.html#logistic-regression\n",
      "  n_iter_i = _check_optimize_result(\n"
     ]
    },
    {
     "data": {
      "text/plain": [
       "Pipeline(steps=[('vect',\n",
       "                 TfidfVectorizer(stop_words={'அங்கு', 'அங்கே', 'அடுத்த',\n",
       "                                             'அதனால்', 'அதன்', 'அதற்கு', 'அதிக',\n",
       "                                             'அதில்', 'அது', 'அதே', 'அதை',\n",
       "                                             'அந்த', 'அந்தக்', 'அந்தப்',\n",
       "                                             'அன்று', 'அல்லது', 'அவன்', 'அவரது',\n",
       "                                             'அவர்', 'அவர்கள்', 'அவள்', 'அவை',\n",
       "                                             'ஆகிய', 'ஆகியோர்', 'ஆகும்',\n",
       "                                             'இங்கு', 'இங்கே', 'இடத்தில்',\n",
       "                                             'இடம்', 'இதனால்', ...},\n",
       "                                 tokenizer=<function word_tokenize at 0x7feed7b093a0>)),\n",
       "                ('clf', LogisticRegression(random_state=0))])"
      ]
     },
     "execution_count": 20,
     "metadata": {},
     "output_type": "execute_result"
    }
   ],
   "source": [
    "# Import Pipeline, LogisticRegression, TfidfVectorizer\n",
    "from sklearn.feature_extraction.text import TfidfVectorizer\n",
    "from sklearn.pipeline import Pipeline\n",
    "from sklearn.linear_model import LogisticRegression\n",
    "\n",
    "tfidf = TfidfVectorizer(stop_words=adv.stopwords['tamil'],tokenizer=word_tokenize)# Your code here\n",
    "\n",
    "logistic_regression = Pipeline([('vect',tfidf),('clf',LogisticRegression(random_state=0))])\n",
    "logistic_regression.fit(X_train, y_train)"
   ]
  },
  {
   "cell_type": "code",
   "execution_count": 21,
   "metadata": {},
   "outputs": [
    {
     "name": "stdout",
     "output_type": "stream",
     "text": [
      "0.7500996624764132\n",
      "[[ 3524   122   158    40  1153     2    21    27     1    24]\n",
      " [  167  1375    86    31   548     3    22    19     0     1]\n",
      " [   83    27  3730    11   988     2   125     1     0     2]\n",
      " [   40    10    14  2417   308     8     5    19     0     1]\n",
      " [  379    68   716    77 14358     4   267    32     3     6]\n",
      " [   21    15    16    21   224   100    24     8     1     5]\n",
      " [   18     8   537     4  1805     0   382     7     1     3]\n",
      " [   45    36     4    24   257     0    12  2071     0     4]\n",
      " [    3     1     0     0    67     2     5     5   208     0]\n",
      " [  327    15    53     2   170     1    26     5     0    59]]\n",
      "                   precision    recall  f1-score   support\n",
      "\n",
      "          இந்தியா       0.76      0.69      0.73      5072\n",
      "            உலகம்       0.82      0.61      0.70      2252\n",
      "          குற்றம்       0.70      0.75      0.73      4969\n",
      "   சினிமா(ரீல்மா)       0.92      0.86      0.89      2822\n",
      "          தமிழகம்       0.72      0.90      0.80     15910\n",
      "        தலையங்கம்       0.82      0.23      0.36       435\n",
      "     மாவட்ட மசாலா       0.43      0.14      0.21      2765\n",
      "       விளையாட்டு       0.94      0.84      0.89      2453\n",
      "     வேலைவாய்ப்பு       0.97      0.71      0.82       291\n",
      "ஸ்டேட் எக்ஸ்பிரஸ்       0.56      0.09      0.15       658\n",
      "\n",
      "         accuracy                           0.75     37627\n",
      "        macro avg       0.77      0.58      0.63     37627\n",
      "     weighted avg       0.74      0.75      0.73     37627\n",
      "\n"
     ]
    }
   ],
   "source": [
    "# Using Test dataset to evaluate model\n",
    "# classification_report\n",
    "# confusion matrix\n",
    "from sklearn.metrics import accuracy_score, confusion_matrix, classification_report\n",
    "prediction = logistic_regression.predict(X_test)\n",
    "print(accuracy_score(y_test, prediction))\n",
    "print(confusion_matrix(y_test, prediction))\n",
    "print(classification_report(y_test, prediction))"
   ]
  },
  {
   "cell_type": "code",
   "execution_count": 22,
   "metadata": {},
   "outputs": [
    {
     "data": {
      "text/plain": [
       "Pipeline(steps=[('vect',\n",
       "                 TfidfVectorizer(stop_words={'அங்கு', 'அங்கே', 'அடுத்த',\n",
       "                                             'அதனால்', 'அதன்', 'அதற்கு', 'அதிக',\n",
       "                                             'அதில்', 'அது', 'அதே', 'அதை',\n",
       "                                             'அந்த', 'அந்தக்', 'அந்தப்',\n",
       "                                             'அன்று', 'அல்லது', 'அவன்', 'அவரது',\n",
       "                                             'அவர்', 'அவர்கள்', 'அவள்', 'அவை',\n",
       "                                             'ஆகிய', 'ஆகியோர்', 'ஆகும்',\n",
       "                                             'இங்கு', 'இங்கே', 'இடத்தில்',\n",
       "                                             'இடம்', 'இதனால்', ...},\n",
       "                                 tokenizer=<function word_tokenize at 0x7feed7b093a0>)),\n",
       "                ('clf', DecisionTreeClassifier(random_state=101))])"
      ]
     },
     "execution_count": 22,
     "metadata": {},
     "output_type": "execute_result"
    }
   ],
   "source": [
    "# Decision Tree\n",
    "from sklearn.tree import DecisionTreeClassifier\n",
    "decision_tree = Pipeline([('vect',tfidf),('clf',DecisionTreeClassifier(random_state=101))])\n",
    "decision_tree.fit(X_train, y_train)"
   ]
  },
  {
   "cell_type": "code",
   "execution_count": 23,
   "metadata": {},
   "outputs": [
    {
     "data": {
      "text/plain": [
       "Pipeline(steps=[('vect',\n",
       "                 TfidfVectorizer(stop_words={'அங்கு', 'அங்கே', 'அடுத்த',\n",
       "                                             'அதனால்', 'அதன்', 'அதற்கு', 'அதிக',\n",
       "                                             'அதில்', 'அது', 'அதே', 'அதை',\n",
       "                                             'அந்த', 'அந்தக்', 'அந்தப்',\n",
       "                                             'அன்று', 'அல்லது', 'அவன்', 'அவரது',\n",
       "                                             'அவர்', 'அவர்கள்', 'அவள்', 'அவை',\n",
       "                                             'ஆகிய', 'ஆகியோர்', 'ஆகும்',\n",
       "                                             'இங்கு', 'இங்கே', 'இடத்தில்',\n",
       "                                             'இடம்', 'இதனால்', ...},\n",
       "                                 tokenizer=<function word_tokenize at 0x7feed7b093a0>)),\n",
       "                ('clf', RandomForestClassifier(random_state=101))])"
      ]
     },
     "execution_count": 23,
     "metadata": {},
     "output_type": "execute_result"
    }
   ],
   "source": [
    "#Random Forest\n",
    "from sklearn.ensemble import RandomForestClassifier\n",
    "\n",
    "random_forest = Pipeline([('vect',tfidf),('clf',RandomForestClassifier(random_state=101))])\n",
    "random_forest.fit(X_train, y_train)"
   ]
  },
  {
   "cell_type": "code",
   "execution_count": 24,
   "metadata": {},
   "outputs": [],
   "source": [
    "news = [\n",
    "    \"நியூசி.பாக் . டெஸ்ட் நாளை துவக்கம்\",\n",
    "    \"கோவை வனப்பகுதி 2,600 ஏக்கர் அதிகரிப்பு\",\n",
    "    \"பவுர்ணமி ஜாமத்தில் மாயமான கர்ப்பிணி\",\n",
    "    \"தூக்கில் தொங்கும் சேவல்கள்\",\n",
    "    \"காமன்வெல்த் ஊழல்: சுரேஷ்\",\n",
    "    \"தல அஜித்குமார் படங்களின் சிறந்த பின்னணி இசை பட்டியல்\"\n",
    "]\n"
   ]
  },
  {
   "cell_type": "code",
   "execution_count": 25,
   "metadata": {},
   "outputs": [
    {
     "name": "stdout",
     "output_type": "stream",
     "text": [
      "நியூசி.பாக் . டெஸ்ட் நாளை துவக்கம் --> = விளையாட்டு\n",
      "கோவை வனப்பகுதி 2,600 ஏக்கர் அதிகரிப்பு --> = தமிழகம்\n",
      "பவுர்ணமி ஜாமத்தில் மாயமான கர்ப்பிணி --> = தலையங்கம்\n",
      "தூக்கில் தொங்கும் சேவல்கள் --> = இந்தியா\n",
      "காமன்வெல்த் ஊழல்: சுரேஷ் --> = தமிழகம்\n",
      "தல அஜித்குமார் படங்களின் சிறந்த பின்னணி இசை பட்டியல் --> = சினிமா(ரீல்மா)\n"
     ]
    }
   ],
   "source": [
    "dt_preds = decision_tree.predict(news)\n",
    "\n",
    "for i in range(len(news)):\n",
    "    print(f'{news[i]} --> = {dt_preds[i]}')"
   ]
  },
  {
   "cell_type": "code",
   "execution_count": 26,
   "metadata": {},
   "outputs": [
    {
     "name": "stdout",
     "output_type": "stream",
     "text": [
      "நியூசி.பாக் . டெஸ்ட் நாளை துவக்கம் --> = விளையாட்டு\n",
      "கோவை வனப்பகுதி 2,600 ஏக்கர் அதிகரிப்பு --> = தமிழகம்\n",
      "பவுர்ணமி ஜாமத்தில் மாயமான கர்ப்பிணி --> = தமிழகம்\n",
      "தூக்கில் தொங்கும் சேவல்கள் --> = தமிழகம்\n",
      "காமன்வெல்த் ஊழல்: சுரேஷ் --> = இந்தியா\n",
      "தல அஜித்குமார் படங்களின் சிறந்த பின்னணி இசை பட்டியல் --> = சினிமா(ரீல்மா)\n"
     ]
    }
   ],
   "source": [
    "lr_preds = logistic_regression.predict(news)\n",
    "\n",
    "for i in range(len(news)):\n",
    "    print(f'{news[i]} --> = {lr_preds[i]}')"
   ]
  },
  {
   "cell_type": "code",
   "execution_count": 27,
   "metadata": {},
   "outputs": [
    {
     "name": "stdout",
     "output_type": "stream",
     "text": [
      "நியூசி.பாக் . டெஸ்ட் நாளை துவக்கம் --> = விளையாட்டு\n",
      "கோவை வனப்பகுதி 2,600 ஏக்கர் அதிகரிப்பு --> = தமிழகம்\n",
      "பவுர்ணமி ஜாமத்தில் மாயமான கர்ப்பிணி --> = தமிழகம்\n",
      "தூக்கில் தொங்கும் சேவல்கள் --> = தமிழகம்\n",
      "காமன்வெல்த் ஊழல்: சுரேஷ் --> = இந்தியா\n",
      "தல அஜித்குமார் படங்களின் சிறந்த பின்னணி இசை பட்டியல் --> = சினிமா(ரீல்மா)\n"
     ]
    }
   ],
   "source": [
    "rf_preds = random_forest.predict(news)\n",
    "\n",
    "for i in range(len(news)):\n",
    "    print(f'{news[i]} --> = {rf_preds[i]}')"
   ]
  },
  {
   "cell_type": "code",
   "execution_count": null,
   "metadata": {},
   "outputs": [],
   "source": []
  }
 ],
 "metadata": {
  "kernelspec": {
   "display_name": "Python 3",
   "language": "python",
   "name": "python3"
  },
  "language_info": {
   "codemirror_mode": {
    "name": "ipython",
    "version": 3
   },
   "file_extension": ".py",
   "mimetype": "text/x-python",
   "name": "python",
   "nbconvert_exporter": "python",
   "pygments_lexer": "ipython3",
   "version": "3.8.2"
  }
 },
 "nbformat": 4,
 "nbformat_minor": 4
}
