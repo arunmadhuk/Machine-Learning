{
 "cells": [
  {
   "cell_type": "markdown",
   "id": "bc9b9780",
   "metadata": {},
   "source": [
    "# Predict Future Sales"
   ]
  },
  {
   "cell_type": "markdown",
   "id": "6353f931",
   "metadata": {},
   "source": [
    "#### Final project for \"How to win a data science competition\" Coursera course\n",
    "Kaggle Link : https://www.kaggle.com/c/competitive-data-science-predict-future-sales/code"
   ]
  },
  {
   "cell_type": "code",
   "execution_count": 3,
   "id": "aced7b1a",
   "metadata": {},
   "outputs": [],
   "source": [
    "import pandas as pd\n",
    "import numpy as np\n",
    "import matplotlib.pyplot as plt\n",
    "import seaborn as sns"
   ]
  },
  {
   "cell_type": "markdown",
   "id": "ea883aa1",
   "metadata": {},
   "source": [
    "##### Let's import the below different data set's\n",
    "\n",
    "    sales_train.csv - the training set. Daily historical data from January 2013 to October 2015.\n",
    "    test.csv - the test set. You need to forecast the sales for these shops and products for November 2015.\n",
    "    sample_submission.csv - a sample submission file in the correct format.\n",
    "    items.csv - supplemental information about the items/products.\n",
    "    item_categories.csv  - supplemental information about the items categories.\n",
    "    shops.csv- supplemental information about the shops."
   ]
  },
  {
   "cell_type": "code",
   "execution_count": 4,
   "id": "19cf78d3",
   "metadata": {},
   "outputs": [],
   "source": [
    "#Sales Train Date set\n",
    "train_df=pd.read_csv(\"E:\\ML - Date Sets\\Predict Future Sales\\sales_train.csv\")\n",
    "# Test data set\n",
    "test_df = pd.read_csv(r\"E:\\ML - Date Sets\\Predict Future Sales\\test.csv\")\n",
    "#Sample submission\n",
    "sub_df = pd.read_csv(r\"E:\\ML - Date Sets\\Predict Future Sales\\sample_submission.csv\")\n",
    "#Shops data\n",
    "shops_df = pd.read_csv(r\"E:\\ML - Date Sets\\Predict Future Sales\\shops.csv\")\n",
    "#items data\n",
    "items_df=pd.read_csv(r\"E:\\ML - Date Sets\\Predict Future Sales\\items.csv\")\n",
    "#items category data\n",
    "items_cat_df = pd.read_csv(r\"E:\\ML - Date Sets\\Predict Future Sales\\item_categories.csv\")"
   ]
  },
  {
   "cell_type": "markdown",
   "id": "9daaf47f",
   "metadata": {},
   "source": [
    "##### Let's have a look at the shape of these datesets one by one"
   ]
  },
  {
   "cell_type": "code",
   "execution_count": 25,
   "id": "e33dfd57",
   "metadata": {},
   "outputs": [
    {
     "name": "stdout",
     "output_type": "stream",
     "text": [
      "Train data shape               : (2935849, 6)\n",
      "Test data shape                : (214200, 3)\n",
      "Sample data shape              : (214200, 2)\n",
      "Shops data shape               : (60, 2)\n",
      "Items data shape               : (22170, 3)\n",
      "Items categories data shape    : (84, 2)\n"
     ]
    }
   ],
   "source": [
    "print(\"Train data shape               :\",train_df.shape)\n",
    "print(\"Test data shape                :\",test_df.shape)\n",
    "print(\"Sample data shape              :\",sub_df.shape)\n",
    "print(\"Shops data shape               :\",shops_df.shape)\n",
    "print(\"Items data shape               :\",items_df.shape)\n",
    "print(\"Items categories data shape    :\",items_cat_df.shape)"
   ]
  },
  {
   "cell_type": "markdown",
   "id": "53aae5dc",
   "metadata": {},
   "source": [
    "##### Check all the data sets for any null values"
   ]
  },
  {
   "cell_type": "code",
   "execution_count": 27,
   "id": "9a8e0e93",
   "metadata": {},
   "outputs": [
    {
     "name": "stdout",
     "output_type": "stream",
     "text": [
      "Null values in Train data set             : 0\n",
      "Null values in Test data set              : 0\n",
      "Null values in Sample data set            : 0\n",
      "Null values in Shops data set             : 0\n",
      "Null values in Items data set             : 0\n",
      "Null values in Items categories data set  : 0\n"
     ]
    }
   ],
   "source": [
    "print(\"Null values in Train data set             :\",train_df.isnull().sum().sum())\n",
    "print(\"Null values in Test data set              :\",test_df.isnull().sum().sum())\n",
    "print(\"Null values in Sample data set            :\",sub_df.isnull().sum().sum())\n",
    "print(\"Null values in Shops data set             :\",shops_df.isnull().sum().sum())\n",
    "print(\"Null values in Items data set             :\",items_df.isnull().sum().sum())\n",
    "print(\"Null values in Items categories data set  :\",items_cat_df.isnull().sum().sum())"
   ]
  },
  {
   "cell_type": "code",
   "execution_count": 17,
   "id": "52de1788",
   "metadata": {},
   "outputs": [
    {
     "data": {
      "text/html": [
       "<div>\n",
       "<style scoped>\n",
       "    .dataframe tbody tr th:only-of-type {\n",
       "        vertical-align: middle;\n",
       "    }\n",
       "\n",
       "    .dataframe tbody tr th {\n",
       "        vertical-align: top;\n",
       "    }\n",
       "\n",
       "    .dataframe thead th {\n",
       "        text-align: right;\n",
       "    }\n",
       "</style>\n",
       "<table border=\"1\" class=\"dataframe\">\n",
       "  <thead>\n",
       "    <tr style=\"text-align: right;\">\n",
       "      <th></th>\n",
       "      <th>date</th>\n",
       "      <th>date_block_num</th>\n",
       "      <th>shop_id</th>\n",
       "      <th>item_id</th>\n",
       "      <th>item_price</th>\n",
       "      <th>item_cnt_day</th>\n",
       "    </tr>\n",
       "  </thead>\n",
       "  <tbody>\n",
       "    <tr>\n",
       "      <th>0</th>\n",
       "      <td>02.01.2013</td>\n",
       "      <td>0</td>\n",
       "      <td>59</td>\n",
       "      <td>22154</td>\n",
       "      <td>999.00</td>\n",
       "      <td>1.0</td>\n",
       "    </tr>\n",
       "    <tr>\n",
       "      <th>1</th>\n",
       "      <td>03.01.2013</td>\n",
       "      <td>0</td>\n",
       "      <td>25</td>\n",
       "      <td>2552</td>\n",
       "      <td>899.00</td>\n",
       "      <td>1.0</td>\n",
       "    </tr>\n",
       "    <tr>\n",
       "      <th>2</th>\n",
       "      <td>05.01.2013</td>\n",
       "      <td>0</td>\n",
       "      <td>25</td>\n",
       "      <td>2552</td>\n",
       "      <td>899.00</td>\n",
       "      <td>-1.0</td>\n",
       "    </tr>\n",
       "    <tr>\n",
       "      <th>3</th>\n",
       "      <td>06.01.2013</td>\n",
       "      <td>0</td>\n",
       "      <td>25</td>\n",
       "      <td>2554</td>\n",
       "      <td>1709.05</td>\n",
       "      <td>1.0</td>\n",
       "    </tr>\n",
       "    <tr>\n",
       "      <th>4</th>\n",
       "      <td>15.01.2013</td>\n",
       "      <td>0</td>\n",
       "      <td>25</td>\n",
       "      <td>2555</td>\n",
       "      <td>1099.00</td>\n",
       "      <td>1.0</td>\n",
       "    </tr>\n",
       "  </tbody>\n",
       "</table>\n",
       "</div>"
      ],
      "text/plain": [
       "         date  date_block_num  shop_id  item_id  item_price  item_cnt_day\n",
       "0  02.01.2013               0       59    22154      999.00           1.0\n",
       "1  03.01.2013               0       25     2552      899.00           1.0\n",
       "2  05.01.2013               0       25     2552      899.00          -1.0\n",
       "3  06.01.2013               0       25     2554     1709.05           1.0\n",
       "4  15.01.2013               0       25     2555     1099.00           1.0"
      ]
     },
     "execution_count": 17,
     "metadata": {},
     "output_type": "execute_result"
    }
   ],
   "source": [
    "train_df.head()"
   ]
  },
  {
   "cell_type": "code",
   "execution_count": 18,
   "id": "6f6137fd",
   "metadata": {},
   "outputs": [
    {
     "data": {
      "text/plain": [
       "(214200, 3)"
      ]
     },
     "execution_count": 18,
     "metadata": {},
     "output_type": "execute_result"
    }
   ],
   "source": []
  },
  {
   "cell_type": "code",
   "execution_count": null,
   "id": "b497a708",
   "metadata": {},
   "outputs": [],
   "source": []
  }
 ],
 "metadata": {
  "kernelspec": {
   "display_name": "Python 3",
   "language": "python",
   "name": "python3"
  },
  "language_info": {
   "codemirror_mode": {
    "name": "ipython",
    "version": 3
   },
   "file_extension": ".py",
   "mimetype": "text/x-python",
   "name": "python",
   "nbconvert_exporter": "python",
   "pygments_lexer": "ipython3",
   "version": "3.9.5"
  }
 },
 "nbformat": 4,
 "nbformat_minor": 5
}
