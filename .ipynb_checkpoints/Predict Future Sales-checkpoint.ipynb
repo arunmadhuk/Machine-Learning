{
 "cells": [
  {
   "cell_type": "markdown",
   "id": "bc9b9780",
   "metadata": {},
   "source": [
    "# Predict Future Sales"
   ]
  },
  {
   "cell_type": "markdown",
   "id": "6353f931",
   "metadata": {},
   "source": [
    "#### Final project for \"How to win a data science competition\" Coursera course\n",
    "Kaggle Link : https://www.kaggle.com/c/competitive-data-science-predict-future-sales/code"
   ]
  },
  {
   "cell_type": "code",
   "execution_count": 1,
   "id": "aced7b1a",
   "metadata": {},
   "outputs": [],
   "source": [
    "import pandas as pd\n",
    "import numpy as np"
   ]
  },
  {
   "cell_type": "code",
   "execution_count": null,
   "id": "578cbb5a",
   "metadata": {},
   "outputs": [],
   "source": []
  }
 ],
 "metadata": {
  "kernelspec": {
   "display_name": "Python 3",
   "language": "python",
   "name": "python3"
  },
  "language_info": {
   "codemirror_mode": {
    "name": "ipython",
    "version": 3
   },
   "file_extension": ".py",
   "mimetype": "text/x-python",
   "name": "python",
   "nbconvert_exporter": "python",
   "pygments_lexer": "ipython3",
   "version": "3.9.5"
  }
 },
 "nbformat": 4,
 "nbformat_minor": 5
}
