{
 "cells": [
  {
   "cell_type": "markdown",
   "metadata": {},
   "source": [
    "# Thamil News Classification Dataset\n",
    "\n",
    "##### Context\n",
    "This dataset contains about 127k news articles along with their respective categories which can be used to evaluate your Thamil text classifier performance.\n",
    "\n",
    "##### Content\n",
    "The data is acquired by scrapping the publicly available articles published on Tamilmurasu.org, which is a well-known newspaper in Tamil nadu, India. The dataset contains articles from 06/01/2011 - 06/01/2020.\n",
    "\n",
    "##### Acknowledgements\n",
    "This dataset exists because of Tamilmurasu.org. All thanks to them."
   ]
  },
  {
   "cell_type": "markdown",
   "metadata": {},
   "source": [
    "Kaggle data link : https://www.kaggle.com/vijayabhaskar96/tamil-news-classification-dataset-tamilmurasu"
   ]
  },
  {
   "cell_type": "markdown",
   "metadata": {},
   "source": [
    "Kaggle Reference : https://www.kaggle.com/krishnarajj/tamil-news-classification"
   ]
  },
  {
   "cell_type": "code",
   "execution_count": 82,
   "metadata": {},
   "outputs": [],
   "source": [
    "import pandas as pd\n",
    "import numpy as np\n",
    "\n",
    "import matplotlib.pyplot as plt\n",
    "\n",
    "#https://advertools.readthedocs.io/en/master/advertools.stopwords.html\n",
    "#Install the advertools library which has the inbuilt stopwords for many languages pip install advertools\n",
    "import advertools as adv\n",
    "\n",
    "from nltk.tokenize import word_tokenize\n",
    "\n",
    "from sklearn.model_selection import train_test_split\n",
    "from sklearn.metrics import mean_squared_error\n",
    "\n",
    "from sklearn.feature_extraction.text import TfidfVectorizer\n",
    "from sklearn.feature_extraction.text import CountVectorizer"
   ]
  },
  {
   "cell_type": "code",
   "execution_count": 56,
   "metadata": {},
   "outputs": [],
   "source": [
    "df = pd.read_csv('/Volumes/SARUN/ML - Date Sets/Tamil News Classification/tamilmurasu_dataset.csv')\n",
    "vector = TfidfVectorizer()"
   ]
  },
  {
   "cell_type": "code",
   "execution_count": 57,
   "metadata": {},
   "outputs": [
    {
     "name": "stdout",
     "output_type": "stream",
     "text": [
      "<class 'pandas.core.frame.DataFrame'>\n",
      "RangeIndex: 126746 entries, 0 to 126745\n",
      "Data columns (total 5 columns):\n",
      " #   Column         Non-Null Count   Dtype \n",
      "---  ------         --------------   ----- \n",
      " 0   news_id        126746 non-null  int64 \n",
      " 1   news_date      126746 non-null  object\n",
      " 2   news_category  126746 non-null  object\n",
      " 3   news_title     126746 non-null  object\n",
      " 4   news_article   126746 non-null  object\n",
      "dtypes: int64(1), object(4)\n",
      "memory usage: 4.8+ MB\n"
     ]
    }
   ],
   "source": [
    "df.info()"
   ]
  },
  {
   "cell_type": "code",
   "execution_count": 58,
   "metadata": {},
   "outputs": [
    {
     "data": {
      "text/html": [
       "<div>\n",
       "<style scoped>\n",
       "    .dataframe tbody tr th:only-of-type {\n",
       "        vertical-align: middle;\n",
       "    }\n",
       "\n",
       "    .dataframe tbody tr th {\n",
       "        vertical-align: top;\n",
       "    }\n",
       "\n",
       "    .dataframe thead th {\n",
       "        text-align: right;\n",
       "    }\n",
       "</style>\n",
       "<table border=\"1\" class=\"dataframe\">\n",
       "  <thead>\n",
       "    <tr style=\"text-align: right;\">\n",
       "      <th></th>\n",
       "      <th>news_id</th>\n",
       "      <th>news_date</th>\n",
       "      <th>news_category</th>\n",
       "      <th>news_title</th>\n",
       "      <th>news_article</th>\n",
       "    </tr>\n",
       "  </thead>\n",
       "  <tbody>\n",
       "    <tr>\n",
       "      <th>0</th>\n",
       "      <td>6</td>\n",
       "      <td>1/6/2011 2:45:49 PM</td>\n",
       "      <td>மர்மம்</td>\n",
       "      <td>தூக்கில் தொங்கும் சேவல்கள் திருடர்களை காவு வாங...</td>\n",
       "      <td>நாலு ஆள் உயரம், முறுக்கு மீசை, கையில் வீச்சரிவ...</td>\n",
       "    </tr>\n",
       "    <tr>\n",
       "      <th>1</th>\n",
       "      <td>9</td>\n",
       "      <td>1/6/2011 2:56:51 PM</td>\n",
       "      <td>மர்மம்</td>\n",
       "      <td>பவுர்ணமி ஜாமத்தில் மாயமான கர்ப்பிணி</td>\n",
       "      <td>அமானுஷ்யமான சம்பவங்கள் நம்மை சுற்றி ஆங்காங்கே ...</td>\n",
       "    </tr>\n",
       "    <tr>\n",
       "      <th>2</th>\n",
       "      <td>10</td>\n",
       "      <td>1/6/2011 3:02:00 PM</td>\n",
       "      <td>இந்தியா</td>\n",
       "      <td>காமன்வெல்த் ஊழல்: சுரேஷ் கல்மாடியிடம் 102 கேள்...</td>\n",
       "      <td>காமன்வெல்த் போட்டி ஏற்பாட்டில் நடைபெற்ற முறைகே...</td>\n",
       "    </tr>\n",
       "    <tr>\n",
       "      <th>3</th>\n",
       "      <td>11</td>\n",
       "      <td>1/6/2011 3:08:15 PM</td>\n",
       "      <td>மர்மம்</td>\n",
       "      <td>மச்சுபிச்சு மலை ரகசியம்</td>\n",
       "      <td>தென்அமெரிக்க நாடான பெருவில் காடுகள் மிகவும் பய...</td>\n",
       "    </tr>\n",
       "    <tr>\n",
       "      <th>4</th>\n",
       "      <td>12</td>\n",
       "      <td>1/6/2011 3:09:20 PM</td>\n",
       "      <td>மர்மம்</td>\n",
       "      <td>ரத்த பலி வாங்கும் விபரீத ஆவி!</td>\n",
       "      <td>கடந்த 18ம் தேதி சாயங்காலம்... அடைமழையை கிழித்த...</td>\n",
       "    </tr>\n",
       "  </tbody>\n",
       "</table>\n",
       "</div>"
      ],
      "text/plain": [
       "   news_id            news_date news_category  \\\n",
       "0        6  1/6/2011 2:45:49 PM        மர்மம்   \n",
       "1        9  1/6/2011 2:56:51 PM        மர்மம்   \n",
       "2       10  1/6/2011 3:02:00 PM       இந்தியா   \n",
       "3       11  1/6/2011 3:08:15 PM        மர்மம்   \n",
       "4       12  1/6/2011 3:09:20 PM        மர்மம்   \n",
       "\n",
       "                                          news_title  \\\n",
       "0  தூக்கில் தொங்கும் சேவல்கள் திருடர்களை காவு வாங...   \n",
       "1                பவுர்ணமி ஜாமத்தில் மாயமான கர்ப்பிணி   \n",
       "2  காமன்வெல்த் ஊழல்: சுரேஷ் கல்மாடியிடம் 102 கேள்...   \n",
       "3                            மச்சுபிச்சு மலை ரகசியம்   \n",
       "4                      ரத்த பலி வாங்கும் விபரீத ஆவி!   \n",
       "\n",
       "                                        news_article  \n",
       "0  நாலு ஆள் உயரம், முறுக்கு மீசை, கையில் வீச்சரிவ...  \n",
       "1  அமானுஷ்யமான சம்பவங்கள் நம்மை சுற்றி ஆங்காங்கே ...  \n",
       "2  காமன்வெல்த் போட்டி ஏற்பாட்டில் நடைபெற்ற முறைகே...  \n",
       "3  தென்அமெரிக்க நாடான பெருவில் காடுகள் மிகவும் பய...  \n",
       "4  கடந்த 18ம் தேதி சாயங்காலம்... அடைமழையை கிழித்த...  "
      ]
     },
     "execution_count": 58,
     "metadata": {},
     "output_type": "execute_result"
    }
   ],
   "source": [
    "df.head()"
   ]
  },
  {
   "cell_type": "code",
   "execution_count": 59,
   "metadata": {},
   "outputs": [
    {
     "data": {
      "text/plain": [
       "['அங்கு', 'அங்கே', 'அடுத்த', 'அதனால்', 'அதன்']"
      ]
     },
     "execution_count": 59,
     "metadata": {},
     "output_type": "execute_result"
    }
   ],
   "source": [
    "# list the available languages\n",
    "adv.stopwords.keys()\n",
    "# First 5 stop words\n",
    "sorted (adv.stopwords['tamil'])[:5]"
   ]
  },
  {
   "cell_type": "code",
   "execution_count": 60,
   "metadata": {},
   "outputs": [
    {
     "name": "stdout",
     "output_type": "stream",
     "text": [
      "['மர்மம்' 'இந்தியா' 'விளையாட்டு' 'ஆன்மீகம்' 'தொழில்' 'சினிமா(ரீல்மா)'\n",
      " 'உலகம்' 'கல்வி' 'குற்றம்' 'ஸ்டேட் எக்ஸ்பிரஸ்' 'தலையங்கம்' 'மாவட்ட மசாலா'\n",
      " 'தமிழகம்' 'வேலைவாய்ப்பு' 'மருத்துவம்']\n"
     ]
    }
   ],
   "source": [
    "unique_news_cat = df['news_category'].unique()\n",
    "print(unique_news_cat)"
   ]
  },
  {
   "cell_type": "code",
   "execution_count": 61,
   "metadata": {},
   "outputs": [],
   "source": [
    "df['news_category_id'] = df.groupby(['news_category']).ngroup()\n",
    "new_df = df[\"news_category_id\"].value_counts()"
   ]
  },
  {
   "cell_type": "code",
   "execution_count": 62,
   "metadata": {},
   "outputs": [
    {
     "data": {
      "text/plain": [
       "<matplotlib.axes._subplots.AxesSubplot at 0x7fdf6a2c7fa0>"
      ]
     },
     "execution_count": 62,
     "metadata": {},
     "output_type": "execute_result"
    },
    {
     "data": {
      "image/png": "[encoded data removed]",
      "text/plain": [
       "<Figure size 432x288 with 1 Axes>"
      ]
     },
     "metadata": {
      "needs_background": "light"
     },
     "output_type": "display_data"
    }
   ],
   "source": [
    "new_df.plot.bar()"
   ]
  },
  {
   "cell_type": "code",
   "execution_count": 63,
   "metadata": {},
   "outputs": [
    {
     "name": "stdout",
     "output_type": "stream",
     "text": [
      "தமிழகம்              53333\n",
      "இந்தியா              16935\n",
      "குற்றம்              16290\n",
      "சினிமா(ரீல்மா)        9248\n",
      "மாவட்ட மசாலா          9079\n",
      "விளையாட்டு            8230\n",
      "உலகம்                 7477\n",
      "ஸ்டேட் எக்ஸ்பிரஸ்     2253\n",
      "தலையங்கம்             1535\n",
      "வேலைவாய்ப்பு          1042\n",
      "மருத்துவம்             544\n",
      "ஆன்மீகம்               406\n",
      "கல்வி                  240\n",
      "தொழில்                  68\n",
      "மர்மம்                  66\n",
      "Name: news_category, dtype: int64\n"
     ]
    }
   ],
   "source": [
    "print(df['news_category'].value_counts())"
   ]
  },
  {
   "cell_type": "code",
   "execution_count": 64,
   "metadata": {},
   "outputs": [
    {
     "name": "stdout",
     "output_type": "stream",
     "text": [
      "<class 'pandas.core.frame.DataFrame'>\n",
      "RangeIndex: 126746 entries, 0 to 126745\n",
      "Data columns (total 6 columns):\n",
      " #   Column            Non-Null Count   Dtype \n",
      "---  ------            --------------   ----- \n",
      " 0   news_id           126746 non-null  int64 \n",
      " 1   news_date         126746 non-null  object\n",
      " 2   news_category     126746 non-null  object\n",
      " 3   news_title        126746 non-null  object\n",
      " 4   news_article      126746 non-null  object\n",
      " 5   news_category_id  126746 non-null  int64 \n",
      "dtypes: int64(2), object(4)\n",
      "memory usage: 5.8+ MB\n"
     ]
    }
   ],
   "source": [
    "df.info()"
   ]
  },
  {
   "cell_type": "code",
   "execution_count": 65,
   "metadata": {},
   "outputs": [
    {
     "data": {
      "text/plain": [
       "['இயற்கை', 'எனது', 'நண்பன்']"
      ]
     },
     "execution_count": 65,
     "metadata": {},
     "output_type": "execute_result"
    }
   ],
   "source": [
    "word_tokens= word_tokenize('இயற்கை எனது நண்பன்')\n",
    "word_tokens"
   ]
  },
  {
   "cell_type": "markdown",
   "metadata": {},
   "source": [
    "##### Drop the categories with less than 1000 entires\n",
    "மருத்துவம், ஆன்மீகம், கல்வி, தொழில், மர்மம்"
   ]
  },
  {
   "cell_type": "code",
   "execution_count": 66,
   "metadata": {},
   "outputs": [],
   "source": [
    "to_drop_array = [\"மருத்துவம்\", \"ஆன்மீகம்\", \"கல்வி\", \"தொழில்\", \"மர்மம்\"]"
   ]
  },
  {
   "cell_type": "code",
   "execution_count": 67,
   "metadata": {},
   "outputs": [
    {
     "name": "stdout",
     "output_type": "stream",
     "text": [
      "Int64Index([   33,    35,    37,    38,    39,    40,    41,    42,    43,\n",
      "               45,\n",
      "            ...\n",
      "            52783, 53832, 53925, 54047, 54425, 56411, 61511, 62198, 68905,\n",
      "            94573],\n",
      "           dtype='int64', length=240)\n"
     ]
    }
   ],
   "source": [
    "drop_index = df[(df['news_category']==\"கல்வி\")].index\n",
    "print(drop_index)"
   ]
  },
  {
   "cell_type": "code",
   "execution_count": 68,
   "metadata": {},
   "outputs": [
    {
     "name": "stdout",
     "output_type": "stream",
     "text": [
      "<class 'pandas.core.frame.DataFrame'>\n",
      "Int64Index: 126506 entries, 0 to 126745\n",
      "Data columns (total 6 columns):\n",
      " #   Column            Non-Null Count   Dtype \n",
      "---  ------            --------------   ----- \n",
      " 0   news_id           126506 non-null  int64 \n",
      " 1   news_date         126506 non-null  object\n",
      " 2   news_category     126506 non-null  object\n",
      " 3   news_title        126506 non-null  object\n",
      " 4   news_article      126506 non-null  object\n",
      " 5   news_category_id  126506 non-null  int64 \n",
      "dtypes: int64(2), object(4)\n",
      "memory usage: 6.8+ MB\n"
     ]
    }
   ],
   "source": [
    "df = df.drop(labels=drop_index,axis=0)\n",
    "df.info()"
   ]
  },
  {
   "cell_type": "code",
   "execution_count": 69,
   "metadata": {},
   "outputs": [
    {
     "name": "stdout",
     "output_type": "stream",
     "text": [
      "<class 'pandas.core.frame.DataFrame'>\n",
      "RangeIndex: 125422 entries, 0 to 125421\n",
      "Data columns (total 6 columns):\n",
      " #   Column            Non-Null Count   Dtype \n",
      "---  ------            --------------   ----- \n",
      " 0   news_id           125422 non-null  int64 \n",
      " 1   news_date         125422 non-null  object\n",
      " 2   news_category     125422 non-null  object\n",
      " 3   news_title        125422 non-null  object\n",
      " 4   news_article      125422 non-null  object\n",
      " 5   news_category_id  125422 non-null  int64 \n",
      "dtypes: int64(2), object(4)\n",
      "memory usage: 5.7+ MB\n"
     ]
    }
   ],
   "source": [
    "for drop_data in to_drop_array:\n",
    "    drop_index = df[(df['news_category']==drop_data)].index\n",
    "    df = df.drop(labels=drop_index,axis=0)\n",
    "\n",
    "#drop_index = df[(df['news_category']=='ஆன்மீகம்')&(df['news_category']=='கல்வி')&(df['news_category']=='தொழில்')&(df['news_category']=='மர்மம்')].index\n",
    "df = df.reset_index(drop=True)\n",
    "df.info()"
   ]
  },
  {
   "cell_type": "code",
   "execution_count": 71,
   "metadata": {},
   "outputs": [
    {
     "name": "stdout",
     "output_type": "stream",
     "text": [
      "தமிழகம்              53333\n",
      "இந்தியா              16935\n",
      "குற்றம்              16290\n",
      "சினிமா(ரீல்மா)        9248\n",
      "மாவட்ட மசாலா          9079\n",
      "விளையாட்டு            8230\n",
      "உலகம்                 7477\n",
      "ஸ்டேட் எக்ஸ்பிரஸ்     2253\n",
      "தலையங்கம்             1535\n",
      "வேலைவாய்ப்பு          1042\n",
      "Name: news_category, dtype: int64\n"
     ]
    }
   ],
   "source": [
    "print(df['news_category'].value_counts())"
   ]
  },
  {
   "cell_type": "markdown",
   "metadata": {},
   "source": [
    "#### Cleaning the news title by removing the Stop words, Punctuations,Numbers,Special symbols and then vectorize it"
   ]
  },
  {
   "cell_type": "code",
   "execution_count": 72,
   "metadata": {},
   "outputs": [],
   "source": [
    "def remove_stopwords(text):\n",
    "    word_tokens = word_tokenize(text) \n",
    "    filtered_text = [word for word in word_tokens if word not in adv.stopwords['tamil']] \n",
    "    filtered_text = ' '.join(word for word in filtered_text)\n",
    "    return filtered_text"
   ]
  },
  {
   "cell_type": "code",
   "execution_count": 85,
   "metadata": {},
   "outputs": [],
   "source": [
    "def vectorized_string(string):\n",
    "    vectorizer = CountVectorizer()\n",
    "    string = [string]\n",
    "    vector_str = vectorizer.fit_transform(string)\n",
    "    return vector_str"
   ]
  },
  {
   "cell_type": "code",
   "execution_count": 88,
   "metadata": {},
   "outputs": [],
   "source": [
    "def word_cleaning(string):\n",
    "    punc = '!()-[]{};:\\'\"\\,<>/?@#$%^&*_~\\'0123456789+abcdefghijklmnopqrstuvwxyzABCDEFGHIJKLMNOPQRSTUVWXYZ'\n",
    "    for ele in string:\n",
    "        if ele in punc:\n",
    "            string = string.replace(ele, \"\")\n",
    "        string = remove_stopwords(string)\n",
    "        #string = vectorized_string(string)\n",
    "        return string\n",
    "    #str_to_list = list_To_String(list_string)\n",
    "    #string_to_return = remove_stopwords(str_to_list)\n",
    "    #str_stopwords = remove_stopwords(list_string)\n",
    "    #string_list = list_To_String(str_stopwords)        \n"
   ]
  },
  {
   "cell_type": "code",
   "execution_count": 89,
   "metadata": {},
   "outputs": [
    {
     "data": {
      "text/plain": [
       "'மகிழ்ச்சிகரமான ஆண்டாக மரியா ஷரபோவா'"
      ]
     },
     "execution_count": 89,
     "metadata": {},
     "output_type": "execute_result"
    }
   ],
   "source": [
    "input_str = \"இந்த மகிழ்ச்சிகரமான ஆண்டாக இருக்கும் மரியா ஷரபோவா\"\n",
    "word_cleaning(input_str)"
   ]
  },
  {
   "cell_type": "code",
   "execution_count": 90,
   "metadata": {},
   "outputs": [
    {
     "ename": "TypeError",
     "evalue": "'in <string>' requires string as left operand, not csr_matrix",
     "output_type": "error",
     "traceback": [
      "\u001b[0;31m---------------------------------------------------------------------------\u001b[0m",
      "\u001b[0;31mTypeError\u001b[0m                                 Traceback (most recent call last)",
      "\u001b[0;32m<ipython-input-90-6b16a2330b2f>\u001b[0m in \u001b[0;36m<module>\u001b[0;34m\u001b[0m\n\u001b[1;32m      1\u001b[0m \u001b[0;32mfor\u001b[0m \u001b[0mi\u001b[0m \u001b[0;32min\u001b[0m \u001b[0mrange\u001b[0m\u001b[0;34m(\u001b[0m\u001b[0mdf\u001b[0m\u001b[0;34m[\u001b[0m\u001b[0;34m'news_title'\u001b[0m\u001b[0;34m]\u001b[0m\u001b[0;34m.\u001b[0m\u001b[0mcount\u001b[0m\u001b[0;34m(\u001b[0m\u001b[0;34m)\u001b[0m\u001b[0;34m)\u001b[0m\u001b[0;34m:\u001b[0m\u001b[0;34m\u001b[0m\u001b[0;34m\u001b[0m\u001b[0m\n\u001b[0;32m----> 2\u001b[0;31m     \u001b[0mdf\u001b[0m\u001b[0;34m[\u001b[0m\u001b[0;34m'news_title'\u001b[0m\u001b[0;34m]\u001b[0m\u001b[0;34m[\u001b[0m\u001b[0mi\u001b[0m\u001b[0;34m]\u001b[0m \u001b[0;34m=\u001b[0m \u001b[0mword_cleaning\u001b[0m\u001b[0;34m(\u001b[0m\u001b[0mdf\u001b[0m\u001b[0;34m[\u001b[0m\u001b[0;34m'news_title'\u001b[0m\u001b[0;34m]\u001b[0m\u001b[0;34m[\u001b[0m\u001b[0mi\u001b[0m\u001b[0;34m]\u001b[0m\u001b[0;34m)\u001b[0m\u001b[0;34m\u001b[0m\u001b[0;34m\u001b[0m\u001b[0m\n\u001b[0m",
      "\u001b[0;32m<ipython-input-88-91ce8eba8ba6>\u001b[0m in \u001b[0;36mword_cleaning\u001b[0;34m(string)\u001b[0m\n\u001b[1;32m      2\u001b[0m     \u001b[0mpunc\u001b[0m \u001b[0;34m=\u001b[0m \u001b[0;34m'!()-[]{};:\\'\"\\,<>/?@#$%^&*_~\\'0123456789+abcdefghijklmnopqrstuvwxyzABCDEFGHIJKLMNOPQRSTUVWXYZ'\u001b[0m\u001b[0;34m\u001b[0m\u001b[0;34m\u001b[0m\u001b[0m\n\u001b[1;32m      3\u001b[0m     \u001b[0;32mfor\u001b[0m \u001b[0mele\u001b[0m \u001b[0;32min\u001b[0m \u001b[0mstring\u001b[0m\u001b[0;34m:\u001b[0m\u001b[0;34m\u001b[0m\u001b[0;34m\u001b[0m\u001b[0m\n\u001b[0;32m----> 4\u001b[0;31m         \u001b[0;32mif\u001b[0m \u001b[0mele\u001b[0m \u001b[0;32min\u001b[0m \u001b[0mpunc\u001b[0m\u001b[0;34m:\u001b[0m\u001b[0;34m\u001b[0m\u001b[0;34m\u001b[0m\u001b[0m\n\u001b[0m\u001b[1;32m      5\u001b[0m             \u001b[0mstring\u001b[0m \u001b[0;34m=\u001b[0m \u001b[0mstring\u001b[0m\u001b[0;34m.\u001b[0m\u001b[0mreplace\u001b[0m\u001b[0;34m(\u001b[0m\u001b[0mele\u001b[0m\u001b[0;34m,\u001b[0m \u001b[0;34m\"\"\u001b[0m\u001b[0;34m)\u001b[0m\u001b[0;34m\u001b[0m\u001b[0;34m\u001b[0m\u001b[0m\n\u001b[1;32m      6\u001b[0m         \u001b[0mstring\u001b[0m \u001b[0;34m=\u001b[0m \u001b[0mremove_stopwords\u001b[0m\u001b[0;34m(\u001b[0m\u001b[0mstring\u001b[0m\u001b[0;34m)\u001b[0m\u001b[0;34m\u001b[0m\u001b[0;34m\u001b[0m\u001b[0m\n",
      "\u001b[0;31mTypeError\u001b[0m: 'in <string>' requires string as left operand, not csr_matrix"
     ]
    }
   ],
   "source": [
    "for i in range(df['news_title'].count()):\n",
    "    df['news_title'][i] = word_cleaning(df['news_title'][i])"
   ]
  },
  {
   "cell_type": "code",
   "execution_count": 50,
   "metadata": {},
   "outputs": [
    {
     "data": {
      "text/html": [
       "<div>\n",
       "<style scoped>\n",
       "    .dataframe tbody tr th:only-of-type {\n",
       "        vertical-align: middle;\n",
       "    }\n",
       "\n",
       "    .dataframe tbody tr th {\n",
       "        vertical-align: top;\n",
       "    }\n",
       "\n",
       "    .dataframe thead th {\n",
       "        text-align: right;\n",
       "    }\n",
       "</style>\n",
       "<table border=\"1\" class=\"dataframe\">\n",
       "  <thead>\n",
       "    <tr style=\"text-align: right;\">\n",
       "      <th></th>\n",
       "      <th>news_id</th>\n",
       "      <th>news_date</th>\n",
       "      <th>news_category</th>\n",
       "      <th>news_title</th>\n",
       "      <th>news_article</th>\n",
       "    </tr>\n",
       "  </thead>\n",
       "  <tbody>\n",
       "    <tr>\n",
       "      <th>2</th>\n",
       "      <td>10</td>\n",
       "      <td>1/6/2011 3:02:00 PM</td>\n",
       "      <td>இந்தியா</td>\n",
       "      <td>காமன்வெல்த் ஊழல்: சுரேஷ் கல்மாடியிடம் 102 கேள்...</td>\n",
       "      <td>காமன்வெல்த் போட்டி ஏற்பாட்டில் நடைபெற்ற முறைகே...</td>\n",
       "    </tr>\n",
       "    <tr>\n",
       "      <th>13</th>\n",
       "      <td>21</td>\n",
       "      <td>1/6/2011 3:34:20 PM</td>\n",
       "      <td>விளையாட்டு</td>\n",
       "      <td>ஆஷஸ் டெஸ்ட் இங்கிலாந்து 644 ரன் குவிப்பு</td>\n",
       "      <td>சிட்னி: சிட்னியில் நடந்து வரும் ஆஷஸ் டெஸ்ட் தொ...</td>\n",
       "    </tr>\n",
       "    <tr>\n",
       "      <th>17</th>\n",
       "      <td>25</td>\n",
       "      <td>1/6/2011 3:42:20 PM</td>\n",
       "      <td>விளையாட்டு</td>\n",
       "      <td>நியூசி.-பாக். டெஸ்ட் நாளை துவக்கம்</td>\n",
       "      <td>பாகிஸ்தான் கிரிக்கெட் அணி நியூசிலாந்தில் சுற்ற...</td>\n",
       "    </tr>\n",
       "    <tr>\n",
       "      <th>21</th>\n",
       "      <td>29</td>\n",
       "      <td>1/6/2011 3:44:45 PM</td>\n",
       "      <td>விளையாட்டு</td>\n",
       "      <td>டெஸ்ட் போட்டிக்கு காலிங்வுட் குட்பை</td>\n",
       "      <td>இங்கிலாந்து அணியின் முன்னணி பேட்ஸ்மேன். பால் க...</td>\n",
       "    </tr>\n",
       "    <tr>\n",
       "      <th>23</th>\n",
       "      <td>31</td>\n",
       "      <td>1/6/2011 3:49:44 PM</td>\n",
       "      <td>விளையாட்டு</td>\n",
       "      <td>ஐசிசி கனவு அணியில் சச்சின், சேவாக், கபில்தேவ்</td>\n",
       "      <td>துபாய்: ஒருநாள் கிரிக்கெட் போட்டிகள் துவங்கப்ப...</td>\n",
       "    </tr>\n",
       "  </tbody>\n",
       "</table>\n",
       "</div>"
      ],
      "text/plain": [
       "    news_id            news_date news_category  \\\n",
       "2        10  1/6/2011 3:02:00 PM       இந்தியா   \n",
       "13       21  1/6/2011 3:34:20 PM    விளையாட்டு   \n",
       "17       25  1/6/2011 3:42:20 PM    விளையாட்டு   \n",
       "21       29  1/6/2011 3:44:45 PM    விளையாட்டு   \n",
       "23       31  1/6/2011 3:49:44 PM    விளையாட்டு   \n",
       "\n",
       "                                           news_title  \\\n",
       "2   காமன்வெல்த் ஊழல்: சுரேஷ் கல்மாடியிடம் 102 கேள்...   \n",
       "13           ஆஷஸ் டெஸ்ட் இங்கிலாந்து 644 ரன் குவிப்பு   \n",
       "17                 நியூசி.-பாக். டெஸ்ட் நாளை துவக்கம்   \n",
       "21                டெஸ்ட் போட்டிக்கு காலிங்வுட் குட்பை   \n",
       "23      ஐசிசி கனவு அணியில் சச்சின், சேவாக், கபில்தேவ்   \n",
       "\n",
       "                                         news_article  \n",
       "2   காமன்வெல்த் போட்டி ஏற்பாட்டில் நடைபெற்ற முறைகே...  \n",
       "13  சிட்னி: சிட்னியில் நடந்து வரும் ஆஷஸ் டெஸ்ட் தொ...  \n",
       "17  பாகிஸ்தான் கிரிக்கெட் அணி நியூசிலாந்தில் சுற்ற...  \n",
       "21  இங்கிலாந்து அணியின் முன்னணி பேட்ஸ்மேன். பால் க...  \n",
       "23  துபாய்: ஒருநாள் கிரிக்கெட் போட்டிகள் துவங்கப்ப...  "
      ]
     },
     "execution_count": 50,
     "metadata": {},
     "output_type": "execute_result"
    }
   ],
   "source": [
    "df.head()"
   ]
  },
  {
   "cell_type": "markdown",
   "metadata": {},
   "source": [
    "#### Model Building"
   ]
  },
  {
   "cell_type": "code",
   "execution_count": 63,
   "metadata": {},
   "outputs": [],
   "source": [
    "X = df['news_title']\n",
    "Y = df['news_category']\n",
    "X_train, X_test, y_train, y_test = train_test_split(X, Y, test_size = 0.3, random_state = 101)"
   ]
  },
  {
   "cell_type": "code",
   "execution_count": 66,
   "metadata": {},
   "outputs": [],
   "source": []
  },
  {
   "cell_type": "code",
   "execution_count": 70,
   "metadata": {},
   "outputs": [
    {
     "name": "stderr",
     "output_type": "stream",
     "text": [
      "/Library/Frameworks/Python.framework/Versions/3.8/lib/python3.8/site-packages/sklearn/linear_model/_logistic.py:763: ConvergenceWarning: lbfgs failed to converge (status=1):\n",
      "STOP: TOTAL NO. of ITERATIONS REACHED LIMIT.\n",
      "\n",
      "Increase the number of iterations (max_iter) or scale the data as shown in:\n",
      "    https://scikit-learn.org/stable/modules/preprocessing.html\n",
      "Please also refer to the documentation for alternative solver options:\n",
      "    https://scikit-learn.org/stable/modules/linear_model.html#logistic-regression\n",
      "  n_iter_i = _check_optimize_result(\n"
     ]
    },
    {
     "data": {
      "text/plain": [
       "Pipeline(steps=[('vect',\n",
       "                 TfidfVectorizer(stop_words={'அங்கு', 'அங்கே', 'அடுத்த',\n",
       "                                             'அதனால்', 'அதன்', 'அதற்கு', 'அதிக',\n",
       "                                             'அதில்', 'அது', 'அதே', 'அதை',\n",
       "                                             'அந்த', 'அந்தக்', 'அந்தப்',\n",
       "                                             'அன்று', 'அல்லது', 'அவன்', 'அவரது',\n",
       "                                             'அவர்', 'அவர்கள்', 'அவள்', 'அவை',\n",
       "                                             'ஆகிய', 'ஆகியோர்', 'ஆகும்',\n",
       "                                             'இங்கு', 'இங்கே', 'இடத்தில்',\n",
       "                                             'இடம்', 'இதனால்', ...},\n",
       "                                 tokenizer=<function word_tokenize at 0x7fc8e59753a0>)),\n",
       "                ('clf', LogisticRegression(random_state=0))])"
      ]
     },
     "execution_count": 70,
     "metadata": {},
     "output_type": "execute_result"
    }
   ],
   "source": [
    "# Import Pipeline, LogisticRegression, TfidfVectorizer\n",
    "from sklearn.feature_extraction.text import TfidfVectorizer\n",
    "from sklearn.pipeline import Pipeline\n",
    "from sklearn.linear_model import LogisticRegression\n",
    "\n",
    "tfidf = TfidfVectorizer(stop_words=adv.stopwords['tamil'],tokenizer=word_tokenize)# Your code here\n",
    "\n",
    "clf = Pipeline([('vect',tfidf),('clf',LogisticRegression(random_state=0))])\n",
    "clf.fit(X_train, y_train)"
   ]
  },
  {
   "cell_type": "code",
   "execution_count": 71,
   "metadata": {},
   "outputs": [
    {
     "name": "stdout",
     "output_type": "stream",
     "text": [
      "0.7410582789816957\n",
      "[[    1     7     0     0     0     1   112     0     0     0     0     1\n",
      "      0     0     0]\n",
      " [    1  3483   126     0   159    40  1200     2     0     0     0    21\n",
      "     32     2    40]\n",
      " [    0   169  1341     0    77    29   562     4     0     0     0    23\n",
      "     26     0     3]\n",
      " [    0     4     2     3     0     0    47     0     0     0     0     3\n",
      "      0     5     0]\n",
      " [    0    79    25     0  3609     7  1062     0     0     0     0   125\n",
      "      2     0     0]\n",
      " [    0    31    22     0    17  2408   308     5     0     0     0     7\n",
      "     21     0     1]\n",
      " [    1   390    69     0   664    93 14486     0     0     1     0   200\n",
      "     32     3    13]\n",
      " [    0    15    15     0    17    33   295    68     0     0     0    20\n",
      "     10     2     5]\n",
      " [    0     0     3     0     1     1    15     0     0     0     0     1\n",
      "      1     0     0]\n",
      " [    0     0     6     0     0     1    76     1     0    64     0     5\n",
      "      1     0     0]\n",
      " [    0     0     1     0     1     0    17     1     0     0     0     2\n",
      "      0     0     0]\n",
      " [    1    24    10     0   565     4  1776     2     0     0     0   340\n",
      "      7     1     3]\n",
      " [    0    34    32     0     4    22   249     0     0     0     0    11\n",
      "   2080     0     0]\n",
      " [    0     4     1     0     0     1    66     0     0     0     0     3\n",
      "      2   233     0]\n",
      " [    0   323    14     0    57     3   186     0     0     0     0    14\n",
      "      5     0    62]]\n"
     ]
    },
    {
     "name": "stderr",
     "output_type": "stream",
     "text": [
      "/Library/Frameworks/Python.framework/Versions/3.8/lib/python3.8/site-packages/sklearn/metrics/_classification.py:1248: UndefinedMetricWarning: Precision and F-score are ill-defined and being set to 0.0 in labels with no predicted samples. Use `zero_division` parameter to control this behavior.\n",
      "  _warn_prf(average, modifier, msg_start, len(result))\n",
      "/Library/Frameworks/Python.framework/Versions/3.8/lib/python3.8/site-packages/sklearn/metrics/_classification.py:1248: UndefinedMetricWarning: Precision and F-score are ill-defined and being set to 0.0 in labels with no predicted samples. Use `zero_division` parameter to control this behavior.\n",
      "  _warn_prf(average, modifier, msg_start, len(result))\n"
     ]
    },
    {
     "name": "stdout",
     "output_type": "stream",
     "text": [
      "                   precision    recall  f1-score   support\n",
      "\n",
      "         ஆன்மீகம்       0.25      0.01      0.02       122\n",
      "          இந்தியா       0.76      0.68      0.72      5106\n",
      "            உலகம்       0.80      0.60      0.69      2234\n",
      "            கல்வி       1.00      0.05      0.09        64\n",
      "          குற்றம்       0.70      0.74      0.72      4909\n",
      "   சினிமா(ரீல்மா)       0.91      0.85      0.88      2820\n",
      "          தமிழகம்       0.71      0.91      0.80     15952\n",
      "        தலையங்கம்       0.82      0.14      0.24       480\n",
      "           தொழில்       0.00      0.00      0.00        22\n",
      "       மருத்துவம்       0.98      0.42      0.58       154\n",
      "           மர்மம்       0.00      0.00      0.00        22\n",
      "     மாவட்ட மசாலா       0.44      0.12      0.19      2733\n",
      "       விளையாட்டு       0.94      0.86      0.89      2432\n",
      "     வேலைவாய்ப்பு       0.95      0.75      0.84       310\n",
      "ஸ்டேட் எக்ஸ்பிரஸ்       0.49      0.09      0.16       664\n",
      "\n",
      "         accuracy                           0.74     38024\n",
      "        macro avg       0.65      0.41      0.45     38024\n",
      "     weighted avg       0.73      0.74      0.72     38024\n",
      "\n"
     ]
    },
    {
     "name": "stderr",
     "output_type": "stream",
     "text": [
      "/Library/Frameworks/Python.framework/Versions/3.8/lib/python3.8/site-packages/sklearn/metrics/_classification.py:1248: UndefinedMetricWarning: Precision and F-score are ill-defined and being set to 0.0 in labels with no predicted samples. Use `zero_division` parameter to control this behavior.\n",
      "  _warn_prf(average, modifier, msg_start, len(result))\n"
     ]
    }
   ],
   "source": [
    "# Using Test dataset to evaluate model\n",
    "# classification_report\n",
    "# confusion matrix\n",
    "from sklearn.metrics import accuracy_score, confusion_matrix, classification_report\n",
    "prediction = clf.predict(X_test)\n",
    "print(accuracy_score(y_test, prediction))\n",
    "print(confusion_matrix(y_test, prediction))\n",
    "print(classification_report(y_test, prediction))"
   ]
  },
  {
   "cell_type": "code",
   "execution_count": 78,
   "metadata": {},
   "outputs": [
    {
     "name": "stdout",
     "output_type": "stream",
     "text": [
      "நியூசி.பாக் . டெஸ்ட் நாளை துவக்கம் --> = விளையாட்டு\n",
      "கோவை வனப்பகுதி 2,600 ஏக்கர் அதிகரிப்பு --> = தமிழகம்\n",
      "பவுர்ணமி ஜாமத்தில் மாயமான கர்ப்பிணி --> = தமிழகம்\n",
      "தூக்கில் தொங்கும் சேவல்கள் --> = தமிழகம்\n",
      "காமன்வெல்த் ஊழல்: சுரேஷ் --> = இந்தியா\n",
      "தல அஜித்குமார் படங்களின் சிறந்த பின்னணி இசை பட்டியல் --> = சினிமா(ரீல்மா)\n"
     ]
    }
   ],
   "source": [
    "news = [\n",
    "    \"நியூசி.பாக் . டெஸ்ட் நாளை துவக்கம்\",\n",
    "    \"கோவை வனப்பகுதி 2,600 ஏக்கர் அதிகரிப்பு\",\n",
    "    \"பவுர்ணமி ஜாமத்தில் மாயமான கர்ப்பிணி\",\n",
    "    \"தூக்கில் தொங்கும் சேவல்கள்\",\n",
    "    \"காமன்வெல்த் ஊழல்: சுரேஷ்\",\n",
    "    \"தல அஜித்குமார் படங்களின் சிறந்த பின்னணி இசை பட்டியல்\"\n",
    "]\n",
    "\n",
    "preds = clf.predict(news)\n",
    "\n",
    "for i in range(len(news)):\n",
    "    print(f'{news[i]} --> = {preds[i]}')"
   ]
  },
  {
   "cell_type": "code",
   "execution_count": null,
   "metadata": {},
   "outputs": [],
   "source": []
  },
  {
   "cell_type": "code",
   "execution_count": 79,
   "metadata": {},
   "outputs": [],
   "source": []
  },
  {
   "cell_type": "code",
   "execution_count": 81,
   "metadata": {},
   "outputs": [
    {
     "data": {
      "text/plain": [
       "Pipeline(steps=[('vect',\n",
       "                 TfidfVectorizer(stop_words={'அங்கு', 'அங்கே', 'அடுத்த',\n",
       "                                             'அதனால்', 'அதன்', 'அதற்கு', 'அதிக',\n",
       "                                             'அதில்', 'அது', 'அதே', 'அதை',\n",
       "                                             'அந்த', 'அந்தக்', 'அந்தப்',\n",
       "                                             'அன்று', 'அல்லது', 'அவன்', 'அவரது',\n",
       "                                             'அவர்', 'அவர்கள்', 'அவள்', 'அவை',\n",
       "                                             'ஆகிய', 'ஆகியோர்', 'ஆகும்',\n",
       "                                             'இங்கு', 'இங்கே', 'இடத்தில்',\n",
       "                                             'இடம்', 'இதனால்', ...},\n",
       "                                 tokenizer=<function word_tokenize at 0x7fc8e59753a0>)),\n",
       "                ('clf', DecisionTreeClassifier(random_state=101))])"
      ]
     },
     "execution_count": 81,
     "metadata": {},
     "output_type": "execute_result"
    }
   ],
   "source": [
    "# Decision Tree\n",
    "from sklearn.tree import DecisionTreeClassifier\n",
    "\n",
    "tfidf = TfidfVectorizer(stop_words=adv.stopwords['tamil'],tokenizer=word_tokenize)\n",
    "\n",
    "clf = Pipeline([('vect',tfidf),('clf',DecisionTreeClassifier(random_state=101))])\n",
    "clf.fit(X_train, y_train)"
   ]
  },
  {
   "cell_type": "code",
   "execution_count": 82,
   "metadata": {},
   "outputs": [
    {
     "name": "stdout",
     "output_type": "stream",
     "text": [
      "நியூசி.பாக் . டெஸ்ட் நாளை துவக்கம் --> = விளையாட்டு\n",
      "கோவை வனப்பகுதி 2,600 ஏக்கர் அதிகரிப்பு --> = தமிழகம்\n",
      "பவுர்ணமி ஜாமத்தில் மாயமான கர்ப்பிணி --> = தமிழகம்\n",
      "தூக்கில் தொங்கும் சேவல்கள் --> = இந்தியா\n",
      "காமன்வெல்த் ஊழல்: சுரேஷ் --> = தமிழகம்\n",
      "தல அஜித்குமார் படங்களின் சிறந்த பின்னணி இசை பட்டியல் --> = சினிமா(ரீல்மா)\n"
     ]
    }
   ],
   "source": [
    "news = [\n",
    "    \"நியூசி.பாக் . டெஸ்ட் நாளை துவக்கம்\",\n",
    "    \"கோவை வனப்பகுதி 2,600 ஏக்கர் அதிகரிப்பு\",\n",
    "    \"பவுர்ணமி ஜாமத்தில் மாயமான கர்ப்பிணி\",\n",
    "    \"தூக்கில் தொங்கும் சேவல்கள்\",\n",
    "    \"காமன்வெல்த் ஊழல்: சுரேஷ்\",\n",
    "    \"தல அஜித்குமார் படங்களின் சிறந்த பின்னணி இசை பட்டியல்\"\n",
    "]\n",
    "\n",
    "preds = clf.predict(news)\n",
    "\n",
    "for i in range(len(news)):\n",
    "    print(f'{news[i]} --> = {preds[i]}')"
   ]
  },
  {
   "cell_type": "code",
   "execution_count": 83,
   "metadata": {},
   "outputs": [
    {
     "data": {
      "text/plain": [
       "Pipeline(steps=[('vect',\n",
       "                 TfidfVectorizer(stop_words={'அங்கு', 'அங்கே', 'அடுத்த',\n",
       "                                             'அதனால்', 'அதன்', 'அதற்கு', 'அதிக',\n",
       "                                             'அதில்', 'அது', 'அதே', 'அதை',\n",
       "                                             'அந்த', 'அந்தக்', 'அந்தப்',\n",
       "                                             'அன்று', 'அல்லது', 'அவன்', 'அவரது',\n",
       "                                             'அவர்', 'அவர்கள்', 'அவள்', 'அவை',\n",
       "                                             'ஆகிய', 'ஆகியோர்', 'ஆகும்',\n",
       "                                             'இங்கு', 'இங்கே', 'இடத்தில்',\n",
       "                                             'இடம்', 'இதனால்', ...},\n",
       "                                 tokenizer=<function word_tokenize at 0x7fc8e59753a0>)),\n",
       "                ('clf', RandomForestClassifier(random_state=101))])"
      ]
     },
     "execution_count": 83,
     "metadata": {},
     "output_type": "execute_result"
    }
   ],
   "source": [
    "#Random Forest\n",
    "from sklearn.ensemble import RandomForestClassifier\n",
    "\n",
    "tfidf = TfidfVectorizer(stop_words=adv.stopwords['tamil'],tokenizer=word_tokenize)\n",
    "\n",
    "clf = Pipeline([('vect',tfidf),('clf',RandomForestClassifier(random_state=101))])\n",
    "clf.fit(X_train, y_train)"
   ]
  },
  {
   "cell_type": "code",
   "execution_count": 84,
   "metadata": {},
   "outputs": [
    {
     "name": "stdout",
     "output_type": "stream",
     "text": [
      "நியூசி.பாக் . டெஸ்ட் நாளை துவக்கம் --> = விளையாட்டு\n",
      "கோவை வனப்பகுதி 2,600 ஏக்கர் அதிகரிப்பு --> = தமிழகம்\n",
      "பவுர்ணமி ஜாமத்தில் மாயமான கர்ப்பிணி --> = தமிழகம்\n",
      "தூக்கில் தொங்கும் சேவல்கள் --> = விளையாட்டு\n",
      "காமன்வெல்த் ஊழல்: சுரேஷ் --> = ஸ்டேட் எக்ஸ்பிரஸ்\n",
      "தல அஜித்குமார் படங்களின் சிறந்த பின்னணி இசை பட்டியல் --> = சினிமா(ரீல்மா)\n"
     ]
    }
   ],
   "source": [
    "news = [\n",
    "    \"நியூசி.பாக் . டெஸ்ட் நாளை துவக்கம்\",\n",
    "    \"கோவை வனப்பகுதி 2,600 ஏக்கர் அதிகரிப்பு\",\n",
    "    \"பவுர்ணமி ஜாமத்தில் மாயமான கர்ப்பிணி\",\n",
    "    \"தூக்கில் தொங்கும் சேவல்கள்\",\n",
    "    \"காமன்வெல்த் ஊழல்: சுரேஷ்\",\n",
    "    \"தல அஜித்குமார் படங்களின் சிறந்த பின்னணி இசை பட்டியல்\"\n",
    "]\n",
    "\n",
    "preds = clf.predict(news)\n",
    "\n",
    "for i in range(len(news)):\n",
    "    print(f'{news[i]} --> = {preds[i]}')"
   ]
  },
  {
   "cell_type": "code",
   "execution_count": null,
   "metadata": {},
   "outputs": [],
   "source": []
  }
 ],
 "metadata": {
  "kernelspec": {
   "display_name": "Python 3",
   "language": "python",
   "name": "python3"
  },
  "language_info": {
   "codemirror_mode": {
    "name": "ipython",
    "version": 3
   },
   "file_extension": ".py",
   "mimetype": "text/x-python",
   "name": "python",
   "nbconvert_exporter": "python",
   "pygments_lexer": "ipython3",
   "version": "3.8.2"
  }
 },
 "nbformat": 4,
 "nbformat_minor": 4
}
