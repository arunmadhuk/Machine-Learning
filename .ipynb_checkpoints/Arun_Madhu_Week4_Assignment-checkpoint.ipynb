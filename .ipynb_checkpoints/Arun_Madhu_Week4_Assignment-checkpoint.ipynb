{
 "cells": [
  {
   "cell_type": "markdown",
   "metadata": {},
   "source": [
    "# Iris Species"
   ]
  },
  {
   "cell_type": "markdown",
   "metadata": {},
   "source": [
    "## Why you choose this specific dataset to work on?"
   ]
  },
  {
   "cell_type": "markdown",
   "metadata": {},
   "source": [
    "This Data set has three iris species with 50 samples which help to practise different classification methods and choose the suitable one for prediction"
   ]
  },
  {
   "cell_type": "markdown",
   "metadata": {},
   "source": [
    "## Which is the point/question you try to solve?"
   ]
  },
  {
   "cell_type": "markdown",
   "metadata": {},
   "source": [
    "apply Logistic Regression, Decision Tree & Random Forest classification method and finding the suitable method based on the accuracy score"
   ]
  },
  {
   "cell_type": "code",
   "execution_count": 1,
   "metadata": {},
   "outputs": [],
   "source": [
    "#Importing Libraries & data files"
   ]
  },
  {
   "cell_type": "code",
   "execution_count": 2,
   "metadata": {},
   "outputs": [],
   "source": [
    "import pandas as pd\n",
    "import numpy as np\n",
    "import seaborn as sns\n",
    "import matplotlib.pyplot as plt"
   ]
  },
  {
   "cell_type": "code",
   "execution_count": 3,
   "metadata": {},
   "outputs": [],
   "source": [
    "iris = pd.read_csv('./iris.csv')"
   ]
  },
  {
   "cell_type": "code",
   "execution_count": 4,
   "metadata": {},
   "outputs": [
    {
     "name": "stdout",
     "output_type": "stream",
     "text": [
      "<class 'pandas.core.frame.DataFrame'>\n",
      "RangeIndex: 150 entries, 0 to 149\n",
      "Data columns (total 6 columns):\n",
      "Id               150 non-null int64\n",
      "SepalLengthCm    150 non-null float64\n",
      "SepalWidthCm     150 non-null float64\n",
      "PetalLengthCm    150 non-null float64\n",
      "PetalWidthCm     150 non-null float64\n",
      "Species          150 non-null object\n",
      "dtypes: float64(4), int64(1), object(1)\n",
      "memory usage: 7.1+ KB\n"
     ]
    }
   ],
   "source": [
    "iris.info()"
   ]
  },
  {
   "cell_type": "code",
   "execution_count": 5,
   "metadata": {},
   "outputs": [
    {
     "data": {
      "text/html": [
       "<div>\n",
       "<style scoped>\n",
       "    .dataframe tbody tr th:only-of-type {\n",
       "        vertical-align: middle;\n",
       "    }\n",
       "\n",
       "    .dataframe tbody tr th {\n",
       "        vertical-align: top;\n",
       "    }\n",
       "\n",
       "    .dataframe thead th {\n",
       "        text-align: right;\n",
       "    }\n",
       "</style>\n",
       "<table border=\"1\" class=\"dataframe\">\n",
       "  <thead>\n",
       "    <tr style=\"text-align: right;\">\n",
       "      <th></th>\n",
       "      <th>Id</th>\n",
       "      <th>SepalLengthCm</th>\n",
       "      <th>SepalWidthCm</th>\n",
       "      <th>PetalLengthCm</th>\n",
       "      <th>PetalWidthCm</th>\n",
       "      <th>Species</th>\n",
       "    </tr>\n",
       "  </thead>\n",
       "  <tbody>\n",
       "    <tr>\n",
       "      <th>0</th>\n",
       "      <td>1</td>\n",
       "      <td>5.1</td>\n",
       "      <td>3.5</td>\n",
       "      <td>1.4</td>\n",
       "      <td>0.2</td>\n",
       "      <td>Iris-setosa</td>\n",
       "    </tr>\n",
       "    <tr>\n",
       "      <th>1</th>\n",
       "      <td>2</td>\n",
       "      <td>4.9</td>\n",
       "      <td>3.0</td>\n",
       "      <td>1.4</td>\n",
       "      <td>0.2</td>\n",
       "      <td>Iris-setosa</td>\n",
       "    </tr>\n",
       "    <tr>\n",
       "      <th>2</th>\n",
       "      <td>3</td>\n",
       "      <td>4.7</td>\n",
       "      <td>3.2</td>\n",
       "      <td>1.3</td>\n",
       "      <td>0.2</td>\n",
       "      <td>Iris-setosa</td>\n",
       "    </tr>\n",
       "    <tr>\n",
       "      <th>3</th>\n",
       "      <td>4</td>\n",
       "      <td>4.6</td>\n",
       "      <td>3.1</td>\n",
       "      <td>1.5</td>\n",
       "      <td>0.2</td>\n",
       "      <td>Iris-setosa</td>\n",
       "    </tr>\n",
       "    <tr>\n",
       "      <th>4</th>\n",
       "      <td>5</td>\n",
       "      <td>5.0</td>\n",
       "      <td>3.6</td>\n",
       "      <td>1.4</td>\n",
       "      <td>0.2</td>\n",
       "      <td>Iris-setosa</td>\n",
       "    </tr>\n",
       "  </tbody>\n",
       "</table>\n",
       "</div>"
      ],
      "text/plain": [
       "   Id  SepalLengthCm  SepalWidthCm  PetalLengthCm  PetalWidthCm      Species\n",
       "0   1            5.1           3.5            1.4           0.2  Iris-setosa\n",
       "1   2            4.9           3.0            1.4           0.2  Iris-setosa\n",
       "2   3            4.7           3.2            1.3           0.2  Iris-setosa\n",
       "3   4            4.6           3.1            1.5           0.2  Iris-setosa\n",
       "4   5            5.0           3.6            1.4           0.2  Iris-setosa"
      ]
     },
     "execution_count": 5,
     "metadata": {},
     "output_type": "execute_result"
    }
   ],
   "source": [
    "iris.head()"
   ]
  },
  {
   "cell_type": "code",
   "execution_count": 6,
   "metadata": {},
   "outputs": [
    {
     "data": {
      "text/plain": [
       "array(['Iris-setosa', 'Iris-versicolor', 'Iris-virginica'], dtype=object)"
      ]
     },
     "execution_count": 6,
     "metadata": {},
     "output_type": "execute_result"
    }
   ],
   "source": [
    "iris.Species.unique()"
   ]
  },
  {
   "cell_type": "code",
   "execution_count": 7,
   "metadata": {},
   "outputs": [
    {
     "data": {
      "text/plain": [
       "Iris-versicolor    50\n",
       "Iris-virginica     50\n",
       "Iris-setosa        50\n",
       "Name: Species, dtype: int64"
      ]
     },
     "execution_count": 7,
     "metadata": {},
     "output_type": "execute_result"
    }
   ],
   "source": [
    "iris.Species.value_counts()"
   ]
  },
  {
   "cell_type": "code",
   "execution_count": 8,
   "metadata": {},
   "outputs": [
    {
     "data": {
      "text/plain": [
       "<matplotlib.axes._subplots.AxesSubplot at 0x1a1e059eb8>"
      ]
     },
     "execution_count": 8,
     "metadata": {},
     "output_type": "execute_result"
    },
    {
     "data": {
      "image/png": "[encoded data removed]",
      "text/plain": [
       "<Figure size 720x504 with 2 Axes>"
      ]
     },
     "metadata": {
      "needs_background": "light"
     },
     "output_type": "display_data"
    }
   ],
   "source": [
    "plt.figure(figsize=(10,7))\n",
    "sns.heatmap(iris.corr(),annot=True)"
   ]
  },
  {
   "cell_type": "code",
   "execution_count": 49,
   "metadata": {},
   "outputs": [
    {
     "name": "stdout",
     "output_type": "stream",
     "text": [
      "(150, 4)\n",
      "(150,)\n"
     ]
    }
   ],
   "source": [
    "#Train & Test the data\n",
    "X = iris.drop(['Id','Species'],axis =1)\n",
    "y = iris['Species']\n",
    "print(X.shape)\n",
    "print(y.shape)"
   ]
  },
  {
   "cell_type": "code",
   "execution_count": 50,
   "metadata": {},
   "outputs": [],
   "source": [
    "from sklearn.model_selection import train_test_split\n",
    "X_train, X_test, y_train, y_test = train_test_split(X,y,test_size =0.33,random_state = 101)"
   ]
  },
  {
   "cell_type": "code",
   "execution_count": 51,
   "metadata": {},
   "outputs": [
    {
     "data": {
      "text/plain": [
       "(100, 4)"
      ]
     },
     "execution_count": 51,
     "metadata": {},
     "output_type": "execute_result"
    }
   ],
   "source": [
    "X_train.shape"
   ]
  },
  {
   "cell_type": "code",
   "execution_count": 52,
   "metadata": {},
   "outputs": [
    {
     "data": {
      "text/plain": [
       "(100,)"
      ]
     },
     "execution_count": 52,
     "metadata": {},
     "output_type": "execute_result"
    }
   ],
   "source": [
    "y_train.shape"
   ]
  },
  {
   "cell_type": "code",
   "execution_count": 53,
   "metadata": {},
   "outputs": [
    {
     "data": {
      "text/plain": [
       "(50,)"
      ]
     },
     "execution_count": 53,
     "metadata": {},
     "output_type": "execute_result"
    }
   ],
   "source": [
    "y_test.shape"
   ]
  },
  {
   "cell_type": "code",
   "execution_count": 54,
   "metadata": {},
   "outputs": [
    {
     "data": {
      "text/plain": [
       "69     Iris-versicolor\n",
       "23         Iris-setosa\n",
       "101     Iris-virginica\n",
       "4          Iris-setosa\n",
       "57     Iris-versicolor\n",
       "Name: Species, dtype: object"
      ]
     },
     "execution_count": 54,
     "metadata": {},
     "output_type": "execute_result"
    }
   ],
   "source": [
    "y_train.head()"
   ]
  },
  {
   "cell_type": "code",
   "execution_count": null,
   "metadata": {},
   "outputs": [],
   "source": []
  },
  {
   "cell_type": "code",
   "execution_count": 55,
   "metadata": {},
   "outputs": [],
   "source": [
    "from sklearn.metrics import classification_report,confusion_matrix,accuracy_score"
   ]
  },
  {
   "cell_type": "code",
   "execution_count": 56,
   "metadata": {},
   "outputs": [
    {
     "name": "stderr",
     "output_type": "stream",
     "text": [
      "/Users/macos/anaconda3/lib/python3.7/site-packages/sklearn/linear_model/logistic.py:433: FutureWarning: Default solver will be changed to 'lbfgs' in 0.22. Specify a solver to silence this warning.\n",
      "  FutureWarning)\n",
      "/Users/macos/anaconda3/lib/python3.7/site-packages/sklearn/linear_model/logistic.py:460: FutureWarning: Default multi_class will be changed to 'auto' in 0.22. Specify the multi_class option to silence this warning.\n",
      "  \"this warning.\", FutureWarning)\n"
     ]
    }
   ],
   "source": [
    "#Logistic Regression\n",
    "from sklearn.linear_model import LogisticRegression\n",
    "lr = LogisticRegression()\n",
    "lr.fit(X_train,y_train)\n",
    "lr_predict = lr.predict(X_test)"
   ]
  },
  {
   "cell_type": "code",
   "execution_count": 57,
   "metadata": {},
   "outputs": [],
   "source": [
    "# Decision Tree\n",
    "from sklearn.tree import DecisionTreeClassifier\n",
    "dt = DecisionTreeClassifier(random_state = 101)\n",
    "dt.fit(X_train,y_train)\n",
    "dt_predict = dt.predict(X_test)"
   ]
  },
  {
   "cell_type": "code",
   "execution_count": 58,
   "metadata": {},
   "outputs": [
    {
     "name": "stderr",
     "output_type": "stream",
     "text": [
      "/Users/macos/anaconda3/lib/python3.7/site-packages/sklearn/ensemble/forest.py:246: FutureWarning: The default value of n_estimators will change from 10 in version 0.20 to 100 in 0.22.\n",
      "  \"10 in version 0.20 to 100 in 0.22.\", FutureWarning)\n"
     ]
    }
   ],
   "source": [
    "#Random Forest\n",
    "from sklearn.ensemble import RandomForestClassifier\n",
    "rf = RandomForestClassifier(random_state=101)\n",
    "rf.fit(X_train,y_train)\n",
    "rf_predict = rf.predict(X_test)"
   ]
  },
  {
   "cell_type": "markdown",
   "metadata": {},
   "source": [
    "# Evaluate Model"
   ]
  },
  {
   "cell_type": "markdown",
   "metadata": {},
   "source": [
    "# 1. Confusion Matrix"
   ]
  },
  {
   "cell_type": "code",
   "execution_count": 59,
   "metadata": {},
   "outputs": [
    {
     "name": "stdout",
     "output_type": "stream",
     "text": [
      "\n",
      " Heat map\n"
     ]
    },
    {
     "data": {
      "text/plain": [
       "Text(33.0, 0.5, 'Actual')"
      ]
     },
     "execution_count": 59,
     "metadata": {},
     "output_type": "execute_result"
    },
    {
     "data": {
      "image/png": "[encoded data removed]",
      "text/plain": [
       "<Figure size 432x288 with 2 Axes>"
      ]
     },
     "metadata": {
      "needs_background": "light"
     },
     "output_type": "display_data"
    }
   ],
   "source": [
    "# Confusion Matrix results for Linear Regression model\n",
    "\n",
    "lr_cfm =confusion_matrix(y_test,lr_predict)\n",
    "print('\\n Heat map')\n",
    "sns.heatmap(lr_cfm,annot =True,fmt='d',cmap='YlGnBu')\n",
    "plt.xlabel('Prediction')\n",
    "plt.ylabel('Actual')"
   ]
  },
  {
   "cell_type": "code",
   "execution_count": 60,
   "metadata": {},
   "outputs": [
    {
     "data": {
      "text/plain": [
       "Text(33.0, 0.5, 'Actual')"
      ]
     },
     "execution_count": 60,
     "metadata": {},
     "output_type": "execute_result"
    },
    {
     "data": {
      "image/png": "[encoded data removed]",
      "text/plain": [
       "<Figure size 432x288 with 2 Axes>"
      ]
     },
     "metadata": {
      "needs_background": "light"
     },
     "output_type": "display_data"
    }
   ],
   "source": [
    "# Confusion Matrix for Decision Tree Model\n",
    "\n",
    "dt_cm = confusion_matrix(y_test,dt_predict)\n",
    "sns.heatmap(dt_cm,annot=True,fmt='d',cmap='YlGnBu')\n",
    "plt.xlabel('Prediction')\n",
    "plt.ylabel('Actual')"
   ]
  },
  {
   "cell_type": "code",
   "execution_count": 61,
   "metadata": {},
   "outputs": [
    {
     "data": {
      "text/plain": [
       "Text(33.0, 0.5, 'Actual')"
      ]
     },
     "execution_count": 61,
     "metadata": {},
     "output_type": "execute_result"
    },
    {
     "data": {
      "image/png": "[encoded data removed]",
      "text/plain": [
       "<Figure size 432x288 with 2 Axes>"
      ]
     },
     "metadata": {
      "needs_background": "light"
     },
     "output_type": "display_data"
    }
   ],
   "source": [
    "# Confusion Matrix for Randome forest tree model\n",
    "rf_cm = confusion_matrix(y_test,rf_predict)\n",
    "sns.heatmap(rf_cm,annot =True,fmt='d',cmap='YlGnBu')\n",
    "plt.xlabel('Prediction')\n",
    "plt.ylabel('Actual')"
   ]
  },
  {
   "cell_type": "markdown",
   "metadata": {},
   "source": [
    "# 2. Classification report"
   ]
  },
  {
   "cell_type": "code",
   "execution_count": 62,
   "metadata": {},
   "outputs": [
    {
     "name": "stdout",
     "output_type": "stream",
     "text": [
      "                 precision    recall  f1-score   support\n",
      "\n",
      "    Iris-setosa       1.00      1.00      1.00        15\n",
      "Iris-versicolor       1.00      0.91      0.95        22\n",
      " Iris-virginica       0.87      1.00      0.93        13\n",
      "\n",
      "      micro avg       0.96      0.96      0.96        50\n",
      "      macro avg       0.96      0.97      0.96        50\n",
      "   weighted avg       0.97      0.96      0.96        50\n",
      "\n"
     ]
    }
   ],
   "source": [
    "# Classificaation report for Linear Regression model\n",
    "lr_cr = classification_report(y_test,lr_predict)\n",
    "print(lr_cr)"
   ]
  },
  {
   "cell_type": "code",
   "execution_count": 63,
   "metadata": {},
   "outputs": [
    {
     "name": "stdout",
     "output_type": "stream",
     "text": [
      "                 precision    recall  f1-score   support\n",
      "\n",
      "    Iris-setosa       1.00      1.00      1.00        15\n",
      "Iris-versicolor       0.95      0.95      0.95        22\n",
      " Iris-virginica       0.92      0.92      0.92        13\n",
      "\n",
      "      micro avg       0.96      0.96      0.96        50\n",
      "      macro avg       0.96      0.96      0.96        50\n",
      "   weighted avg       0.96      0.96      0.96        50\n",
      "\n"
     ]
    }
   ],
   "source": [
    "# Classification report for Decision Tree\n",
    "dt_cr = classification_report(y_test,dt_predict)\n",
    "print(dt_cr)"
   ]
  },
  {
   "cell_type": "code",
   "execution_count": 64,
   "metadata": {},
   "outputs": [
    {
     "name": "stdout",
     "output_type": "stream",
     "text": [
      "                 precision    recall  f1-score   support\n",
      "\n",
      "    Iris-setosa       1.00      1.00      1.00        15\n",
      "Iris-versicolor       1.00      0.95      0.98        22\n",
      " Iris-virginica       0.93      1.00      0.96        13\n",
      "\n",
      "      micro avg       0.98      0.98      0.98        50\n",
      "      macro avg       0.98      0.98      0.98        50\n",
      "   weighted avg       0.98      0.98      0.98        50\n",
      "\n"
     ]
    }
   ],
   "source": [
    "# Classification report for Random Forest model\n",
    "rf_cr = classification_report(y_test,rf_predict)\n",
    "print(rf_cr)"
   ]
  },
  {
   "cell_type": "code",
   "execution_count": 65,
   "metadata": {},
   "outputs": [
    {
     "name": "stdout",
     "output_type": "stream",
     "text": [
      "Accuracy of Liner Regression : 0.96\n",
      "Accuracy of Decision Tree    : 0.96\n",
      "Accuracy of Random Forest    : 0.98\n"
     ]
    }
   ],
   "source": [
    "# Accuracy of All the models\n",
    "print('Accuracy of Liner Regression :', accuracy_score(y_test,lr_predict))\n",
    "print('Accuracy of Decision Tree    :', accuracy_score(y_test,dt_predict))\n",
    "print('Accuracy of Random Forest    :', accuracy_score(y_test,rf_predict))"
   ]
  },
  {
   "cell_type": "markdown",
   "metadata": {},
   "source": [
    "Based on the accuracy score, Random Forest model has more accuracy and we can consider it as our classification model."
   ]
  },
  {
   "cell_type": "code",
   "execution_count": 67,
   "metadata": {},
   "outputs": [
    {
     "data": {
      "text/plain": [
       "array(['Iris-setosa'], dtype=object)"
      ]
     },
     "execution_count": 67,
     "metadata": {},
     "output_type": "execute_result"
    }
   ],
   "source": [
    "new_datapoint = [[5, 4, 1, 0.4]]\n",
    "rf.predict(new_datapoint)"
   ]
  },
  {
   "cell_type": "markdown",
   "metadata": {},
   "source": [
    "# Fine Tuneing"
   ]
  },
  {
   "cell_type": "code",
   "execution_count": 74,
   "metadata": {},
   "outputs": [
    {
     "name": "stdout",
     "output_type": "stream",
     "text": [
      "[0.94, 0.96, 0.96, 0.96, 0.96, 0.96]\n"
     ]
    },
    {
     "data": {
      "image/png": "[encoded data removed]",
      "text/plain": [
       "<Figure size 432x288 with 1 Axes>"
      ]
     },
     "metadata": {
      "needs_background": "light"
     },
     "output_type": "display_data"
    }
   ],
   "source": [
    "# Lets check the Accuracy score for different estimator values and store the accuracy into an array\n",
    "\n",
    "n =[1, 5 ,10, 20, 50, 100]\n",
    "result=[]\n",
    "\n",
    "for i in n:\n",
    "    new_rf = RandomForestClassifier(n_estimators=i)\n",
    "    new_rf.fit(X_train,y_train)\n",
    "    prediction = new_rf.predict(X_test)\n",
    "    result.append(accuracy_score(y_test,prediction))\n",
    "    \n",
    "# Lets plot a scatter plot for the accuracy results\n",
    "plt.scatter(n,result)\n",
    "print(result)"
   ]
  },
  {
   "cell_type": "code",
   "execution_count": 75,
   "metadata": {},
   "outputs": [],
   "source": [
    "from sklearn.model_selection import GridSearchCV"
   ]
  },
  {
   "cell_type": "code",
   "execution_count": 76,
   "metadata": {},
   "outputs": [
    {
     "name": "stderr",
     "output_type": "stream",
     "text": [
      "/Users/macos/anaconda3/lib/python3.7/site-packages/sklearn/model_selection/_split.py:2053: FutureWarning: You should specify a value for 'cv' instead of relying on the default value. The default value will change from 3 to 5 in version 0.22.\n",
      "  warnings.warn(CV_WARNING, FutureWarning)\n",
      "/Users/macos/anaconda3/lib/python3.7/site-packages/sklearn/model_selection/_search.py:841: DeprecationWarning: The default of the `iid` parameter will change from True to False in version 0.22 and will be removed in 0.24. This will change numeric results when test-set sizes are unequal.\n",
      "  DeprecationWarning)\n"
     ]
    },
    {
     "data": {
      "text/plain": [
       "GridSearchCV(cv='warn', error_score='raise-deprecating',\n",
       "       estimator=RandomForestClassifier(bootstrap=True, class_weight=None, criterion='gini',\n",
       "            max_depth=None, max_features='auto', max_leaf_nodes=None,\n",
       "            min_impurity_decrease=0.0, min_impurity_split=None,\n",
       "            min_samples_leaf=1, min_samples_split=2,\n",
       "            min_weight_fraction_leaf=0.0, n_estimators='warn', n_jobs=None,\n",
       "            oob_score=False, random_state=None, verbose=0,\n",
       "            warm_start=False),\n",
       "       fit_params=None, iid='warn', n_jobs=None,\n",
       "       param_grid={'n_estimators': [1, 5, 10, 20, 50, 100], 'max_depth': [5, 10, 20, 50]},\n",
       "       pre_dispatch='2*n_jobs', refit=True, return_train_score='warn',\n",
       "       scoring=None, verbose=0)"
      ]
     },
     "execution_count": 76,
     "metadata": {},
     "output_type": "execute_result"
    }
   ],
   "source": [
    "param_grid = {\n",
    "    \"n_estimators\":[1 ,5 ,10, 20, 50, 100],\n",
    "    \"max_depth\": [5,10,20,50]\n",
    "}\n",
    "gridcv = GridSearchCV(RandomForestClassifier(),param_grid =param_grid)\n",
    "gridcv.fit(X_train,y_train)"
   ]
  },
  {
   "cell_type": "code",
   "execution_count": 77,
   "metadata": {},
   "outputs": [
    {
     "data": {
      "text/plain": [
       "RandomForestClassifier(bootstrap=True, class_weight=None, criterion='gini',\n",
       "            max_depth=50, max_features='auto', max_leaf_nodes=None,\n",
       "            min_impurity_decrease=0.0, min_impurity_split=None,\n",
       "            min_samples_leaf=1, min_samples_split=2,\n",
       "            min_weight_fraction_leaf=0.0, n_estimators=5, n_jobs=None,\n",
       "            oob_score=False, random_state=None, verbose=0,\n",
       "            warm_start=False)"
      ]
     },
     "execution_count": 77,
     "metadata": {},
     "output_type": "execute_result"
    }
   ],
   "source": [
    "gridcv.best_estimator_"
   ]
  },
  {
   "cell_type": "code",
   "execution_count": 78,
   "metadata": {},
   "outputs": [
    {
     "data": {
      "text/plain": [
       "0.96"
      ]
     },
     "execution_count": 78,
     "metadata": {},
     "output_type": "execute_result"
    }
   ],
   "source": [
    "gridcv.best_score_"
   ]
  },
  {
   "cell_type": "code",
   "execution_count": 79,
   "metadata": {},
   "outputs": [
    {
     "data": {
      "text/plain": [
       "{'max_depth': 50, 'n_estimators': 5}"
      ]
     },
     "execution_count": 79,
     "metadata": {},
     "output_type": "execute_result"
    }
   ],
   "source": [
    "gridcv.best_params_"
   ]
  },
  {
   "cell_type": "code",
   "execution_count": 80,
   "metadata": {},
   "outputs": [
    {
     "name": "stderr",
     "output_type": "stream",
     "text": [
      "/Users/macos/anaconda3/lib/python3.7/site-packages/sklearn/utils/deprecation.py:125: FutureWarning: You are accessing a training score ('split0_train_score'), which will not be available by default any more in 0.21. If you need training scores, please set return_train_score=True\n",
      "  warnings.warn(*warn_args, **warn_kwargs)\n",
      "/Users/macos/anaconda3/lib/python3.7/site-packages/sklearn/utils/deprecation.py:125: FutureWarning: You are accessing a training score ('split1_train_score'), which will not be available by default any more in 0.21. If you need training scores, please set return_train_score=True\n",
      "  warnings.warn(*warn_args, **warn_kwargs)\n",
      "/Users/macos/anaconda3/lib/python3.7/site-packages/sklearn/utils/deprecation.py:125: FutureWarning: You are accessing a training score ('split2_train_score'), which will not be available by default any more in 0.21. If you need training scores, please set return_train_score=True\n",
      "  warnings.warn(*warn_args, **warn_kwargs)\n",
      "/Users/macos/anaconda3/lib/python3.7/site-packages/sklearn/utils/deprecation.py:125: FutureWarning: You are accessing a training score ('mean_train_score'), which will not be available by default any more in 0.21. If you need training scores, please set return_train_score=True\n",
      "  warnings.warn(*warn_args, **warn_kwargs)\n",
      "/Users/macos/anaconda3/lib/python3.7/site-packages/sklearn/utils/deprecation.py:125: FutureWarning: You are accessing a training score ('std_train_score'), which will not be available by default any more in 0.21. If you need training scores, please set return_train_score=True\n",
      "  warnings.warn(*warn_args, **warn_kwargs)\n"
     ]
    },
    {
     "data": {
      "text/html": [
       "<div>\n",
       "<style scoped>\n",
       "    .dataframe tbody tr th:only-of-type {\n",
       "        vertical-align: middle;\n",
       "    }\n",
       "\n",
       "    .dataframe tbody tr th {\n",
       "        vertical-align: top;\n",
       "    }\n",
       "\n",
       "    .dataframe thead th {\n",
       "        text-align: right;\n",
       "    }\n",
       "</style>\n",
       "<table border=\"1\" class=\"dataframe\">\n",
       "  <thead>\n",
       "    <tr style=\"text-align: right;\">\n",
       "      <th></th>\n",
       "      <th>mean_fit_time</th>\n",
       "      <th>std_fit_time</th>\n",
       "      <th>mean_score_time</th>\n",
       "      <th>std_score_time</th>\n",
       "      <th>param_max_depth</th>\n",
       "      <th>param_n_estimators</th>\n",
       "      <th>params</th>\n",
       "      <th>split0_test_score</th>\n",
       "      <th>split1_test_score</th>\n",
       "      <th>split2_test_score</th>\n",
       "      <th>mean_test_score</th>\n",
       "      <th>std_test_score</th>\n",
       "      <th>rank_test_score</th>\n",
       "      <th>split0_train_score</th>\n",
       "      <th>split1_train_score</th>\n",
       "      <th>split2_train_score</th>\n",
       "      <th>mean_train_score</th>\n",
       "      <th>std_train_score</th>\n",
       "    </tr>\n",
       "  </thead>\n",
       "  <tbody>\n",
       "    <tr>\n",
       "      <th>0</th>\n",
       "      <td>0.005436</td>\n",
       "      <td>0.000969</td>\n",
       "      <td>0.002399</td>\n",
       "      <td>0.000076</td>\n",
       "      <td>5</td>\n",
       "      <td>1</td>\n",
       "      <td>{'max_depth': 5, 'n_estimators': 1}</td>\n",
       "      <td>0.914286</td>\n",
       "      <td>0.909091</td>\n",
       "      <td>0.93750</td>\n",
       "      <td>0.92</td>\n",
       "      <td>0.012194</td>\n",
       "      <td>22</td>\n",
       "      <td>0.969231</td>\n",
       "      <td>1.000000</td>\n",
       "      <td>1.000000</td>\n",
       "      <td>0.989744</td>\n",
       "      <td>0.014505</td>\n",
       "    </tr>\n",
       "    <tr>\n",
       "      <th>1</th>\n",
       "      <td>0.009164</td>\n",
       "      <td>0.002404</td>\n",
       "      <td>0.002449</td>\n",
       "      <td>0.000494</td>\n",
       "      <td>5</td>\n",
       "      <td>5</td>\n",
       "      <td>{'max_depth': 5, 'n_estimators': 5}</td>\n",
       "      <td>0.971429</td>\n",
       "      <td>0.939394</td>\n",
       "      <td>0.93750</td>\n",
       "      <td>0.95</td>\n",
       "      <td>0.015743</td>\n",
       "      <td>2</td>\n",
       "      <td>0.984615</td>\n",
       "      <td>1.000000</td>\n",
       "      <td>1.000000</td>\n",
       "      <td>0.994872</td>\n",
       "      <td>0.007252</td>\n",
       "    </tr>\n",
       "    <tr>\n",
       "      <th>2</th>\n",
       "      <td>0.011109</td>\n",
       "      <td>0.000454</td>\n",
       "      <td>0.002614</td>\n",
       "      <td>0.000067</td>\n",
       "      <td>5</td>\n",
       "      <td>10</td>\n",
       "      <td>{'max_depth': 5, 'n_estimators': 10}</td>\n",
       "      <td>0.942857</td>\n",
       "      <td>0.909091</td>\n",
       "      <td>0.93750</td>\n",
       "      <td>0.93</td>\n",
       "      <td>0.014837</td>\n",
       "      <td>6</td>\n",
       "      <td>0.984615</td>\n",
       "      <td>1.000000</td>\n",
       "      <td>0.985294</td>\n",
       "      <td>0.989970</td>\n",
       "      <td>0.007098</td>\n",
       "    </tr>\n",
       "    <tr>\n",
       "      <th>3</th>\n",
       "      <td>0.019250</td>\n",
       "      <td>0.000049</td>\n",
       "      <td>0.003587</td>\n",
       "      <td>0.000046</td>\n",
       "      <td>5</td>\n",
       "      <td>20</td>\n",
       "      <td>{'max_depth': 5, 'n_estimators': 20}</td>\n",
       "      <td>0.942857</td>\n",
       "      <td>0.939394</td>\n",
       "      <td>0.93750</td>\n",
       "      <td>0.94</td>\n",
       "      <td>0.002231</td>\n",
       "      <td>4</td>\n",
       "      <td>1.000000</td>\n",
       "      <td>1.000000</td>\n",
       "      <td>1.000000</td>\n",
       "      <td>1.000000</td>\n",
       "      <td>0.000000</td>\n",
       "    </tr>\n",
       "    <tr>\n",
       "      <th>4</th>\n",
       "      <td>0.047983</td>\n",
       "      <td>0.003767</td>\n",
       "      <td>0.006612</td>\n",
       "      <td>0.001099</td>\n",
       "      <td>5</td>\n",
       "      <td>50</td>\n",
       "      <td>{'max_depth': 5, 'n_estimators': 50}</td>\n",
       "      <td>0.942857</td>\n",
       "      <td>0.909091</td>\n",
       "      <td>0.93750</td>\n",
       "      <td>0.93</td>\n",
       "      <td>0.014837</td>\n",
       "      <td>6</td>\n",
       "      <td>1.000000</td>\n",
       "      <td>1.000000</td>\n",
       "      <td>1.000000</td>\n",
       "      <td>1.000000</td>\n",
       "      <td>0.000000</td>\n",
       "    </tr>\n",
       "    <tr>\n",
       "      <th>5</th>\n",
       "      <td>0.097265</td>\n",
       "      <td>0.009675</td>\n",
       "      <td>0.013006</td>\n",
       "      <td>0.000264</td>\n",
       "      <td>5</td>\n",
       "      <td>100</td>\n",
       "      <td>{'max_depth': 5, 'n_estimators': 100}</td>\n",
       "      <td>0.942857</td>\n",
       "      <td>0.909091</td>\n",
       "      <td>0.93750</td>\n",
       "      <td>0.93</td>\n",
       "      <td>0.014837</td>\n",
       "      <td>6</td>\n",
       "      <td>1.000000</td>\n",
       "      <td>1.000000</td>\n",
       "      <td>1.000000</td>\n",
       "      <td>1.000000</td>\n",
       "      <td>0.000000</td>\n",
       "    </tr>\n",
       "    <tr>\n",
       "      <th>6</th>\n",
       "      <td>0.003648</td>\n",
       "      <td>0.000554</td>\n",
       "      <td>0.001410</td>\n",
       "      <td>0.000069</td>\n",
       "      <td>10</td>\n",
       "      <td>1</td>\n",
       "      <td>{'max_depth': 10, 'n_estimators': 1}</td>\n",
       "      <td>0.942857</td>\n",
       "      <td>0.909091</td>\n",
       "      <td>0.93750</td>\n",
       "      <td>0.93</td>\n",
       "      <td>0.014837</td>\n",
       "      <td>6</td>\n",
       "      <td>0.938462</td>\n",
       "      <td>0.970149</td>\n",
       "      <td>0.985294</td>\n",
       "      <td>0.964635</td>\n",
       "      <td>0.019513</td>\n",
       "    </tr>\n",
       "    <tr>\n",
       "      <th>7</th>\n",
       "      <td>0.006927</td>\n",
       "      <td>0.000452</td>\n",
       "      <td>0.003033</td>\n",
       "      <td>0.000817</td>\n",
       "      <td>10</td>\n",
       "      <td>5</td>\n",
       "      <td>{'max_depth': 10, 'n_estimators': 5}</td>\n",
       "      <td>0.942857</td>\n",
       "      <td>0.909091</td>\n",
       "      <td>0.93750</td>\n",
       "      <td>0.93</td>\n",
       "      <td>0.014837</td>\n",
       "      <td>6</td>\n",
       "      <td>1.000000</td>\n",
       "      <td>1.000000</td>\n",
       "      <td>1.000000</td>\n",
       "      <td>1.000000</td>\n",
       "      <td>0.000000</td>\n",
       "    </tr>\n",
       "    <tr>\n",
       "      <th>8</th>\n",
       "      <td>0.011723</td>\n",
       "      <td>0.001366</td>\n",
       "      <td>0.002524</td>\n",
       "      <td>0.000384</td>\n",
       "      <td>10</td>\n",
       "      <td>10</td>\n",
       "      <td>{'max_depth': 10, 'n_estimators': 10}</td>\n",
       "      <td>0.942857</td>\n",
       "      <td>0.909091</td>\n",
       "      <td>0.93750</td>\n",
       "      <td>0.93</td>\n",
       "      <td>0.014837</td>\n",
       "      <td>6</td>\n",
       "      <td>0.984615</td>\n",
       "      <td>0.985075</td>\n",
       "      <td>0.985294</td>\n",
       "      <td>0.984995</td>\n",
       "      <td>0.000283</td>\n",
       "    </tr>\n",
       "    <tr>\n",
       "      <th>9</th>\n",
       "      <td>0.018709</td>\n",
       "      <td>0.000676</td>\n",
       "      <td>0.003447</td>\n",
       "      <td>0.000389</td>\n",
       "      <td>10</td>\n",
       "      <td>20</td>\n",
       "      <td>{'max_depth': 10, 'n_estimators': 20}</td>\n",
       "      <td>0.942857</td>\n",
       "      <td>0.909091</td>\n",
       "      <td>0.93750</td>\n",
       "      <td>0.93</td>\n",
       "      <td>0.014837</td>\n",
       "      <td>6</td>\n",
       "      <td>1.000000</td>\n",
       "      <td>1.000000</td>\n",
       "      <td>1.000000</td>\n",
       "      <td>1.000000</td>\n",
       "      <td>0.000000</td>\n",
       "    </tr>\n",
       "    <tr>\n",
       "      <th>10</th>\n",
       "      <td>0.057672</td>\n",
       "      <td>0.018530</td>\n",
       "      <td>0.006178</td>\n",
       "      <td>0.000365</td>\n",
       "      <td>10</td>\n",
       "      <td>50</td>\n",
       "      <td>{'max_depth': 10, 'n_estimators': 50}</td>\n",
       "      <td>0.942857</td>\n",
       "      <td>0.909091</td>\n",
       "      <td>0.93750</td>\n",
       "      <td>0.93</td>\n",
       "      <td>0.014837</td>\n",
       "      <td>6</td>\n",
       "      <td>1.000000</td>\n",
       "      <td>1.000000</td>\n",
       "      <td>1.000000</td>\n",
       "      <td>1.000000</td>\n",
       "      <td>0.000000</td>\n",
       "    </tr>\n",
       "    <tr>\n",
       "      <th>11</th>\n",
       "      <td>0.085102</td>\n",
       "      <td>0.000504</td>\n",
       "      <td>0.011212</td>\n",
       "      <td>0.000192</td>\n",
       "      <td>10</td>\n",
       "      <td>100</td>\n",
       "      <td>{'max_depth': 10, 'n_estimators': 100}</td>\n",
       "      <td>0.942857</td>\n",
       "      <td>0.909091</td>\n",
       "      <td>0.93750</td>\n",
       "      <td>0.93</td>\n",
       "      <td>0.014837</td>\n",
       "      <td>6</td>\n",
       "      <td>1.000000</td>\n",
       "      <td>1.000000</td>\n",
       "      <td>1.000000</td>\n",
       "      <td>1.000000</td>\n",
       "      <td>0.000000</td>\n",
       "    </tr>\n",
       "    <tr>\n",
       "      <th>12</th>\n",
       "      <td>0.004276</td>\n",
       "      <td>0.000420</td>\n",
       "      <td>0.001611</td>\n",
       "      <td>0.000163</td>\n",
       "      <td>20</td>\n",
       "      <td>1</td>\n",
       "      <td>{'max_depth': 20, 'n_estimators': 1}</td>\n",
       "      <td>0.857143</td>\n",
       "      <td>0.969697</td>\n",
       "      <td>0.93750</td>\n",
       "      <td>0.92</td>\n",
       "      <td>0.047915</td>\n",
       "      <td>22</td>\n",
       "      <td>0.892308</td>\n",
       "      <td>0.970149</td>\n",
       "      <td>1.000000</td>\n",
       "      <td>0.954152</td>\n",
       "      <td>0.045397</td>\n",
       "    </tr>\n",
       "    <tr>\n",
       "      <th>13</th>\n",
       "      <td>0.008062</td>\n",
       "      <td>0.001858</td>\n",
       "      <td>0.002234</td>\n",
       "      <td>0.000236</td>\n",
       "      <td>20</td>\n",
       "      <td>5</td>\n",
       "      <td>{'max_depth': 20, 'n_estimators': 5}</td>\n",
       "      <td>1.000000</td>\n",
       "      <td>0.848485</td>\n",
       "      <td>0.96875</td>\n",
       "      <td>0.94</td>\n",
       "      <td>0.065485</td>\n",
       "      <td>4</td>\n",
       "      <td>0.984615</td>\n",
       "      <td>0.985075</td>\n",
       "      <td>0.985294</td>\n",
       "      <td>0.984995</td>\n",
       "      <td>0.000283</td>\n",
       "    </tr>\n",
       "    <tr>\n",
       "      <th>14</th>\n",
       "      <td>0.013284</td>\n",
       "      <td>0.000708</td>\n",
       "      <td>0.003441</td>\n",
       "      <td>0.000315</td>\n",
       "      <td>20</td>\n",
       "      <td>10</td>\n",
       "      <td>{'max_depth': 20, 'n_estimators': 10}</td>\n",
       "      <td>0.971429</td>\n",
       "      <td>0.939394</td>\n",
       "      <td>0.93750</td>\n",
       "      <td>0.95</td>\n",
       "      <td>0.015743</td>\n",
       "      <td>2</td>\n",
       "      <td>1.000000</td>\n",
       "      <td>1.000000</td>\n",
       "      <td>1.000000</td>\n",
       "      <td>1.000000</td>\n",
       "      <td>0.000000</td>\n",
       "    </tr>\n",
       "    <tr>\n",
       "      <th>15</th>\n",
       "      <td>0.025053</td>\n",
       "      <td>0.001367</td>\n",
       "      <td>0.004181</td>\n",
       "      <td>0.000335</td>\n",
       "      <td>20</td>\n",
       "      <td>20</td>\n",
       "      <td>{'max_depth': 20, 'n_estimators': 20}</td>\n",
       "      <td>0.942857</td>\n",
       "      <td>0.909091</td>\n",
       "      <td>0.93750</td>\n",
       "      <td>0.93</td>\n",
       "      <td>0.014837</td>\n",
       "      <td>6</td>\n",
       "      <td>1.000000</td>\n",
       "      <td>1.000000</td>\n",
       "      <td>1.000000</td>\n",
       "      <td>1.000000</td>\n",
       "      <td>0.000000</td>\n",
       "    </tr>\n",
       "    <tr>\n",
       "      <th>16</th>\n",
       "      <td>0.048836</td>\n",
       "      <td>0.002712</td>\n",
       "      <td>0.007209</td>\n",
       "      <td>0.000736</td>\n",
       "      <td>20</td>\n",
       "      <td>50</td>\n",
       "      <td>{'max_depth': 20, 'n_estimators': 50}</td>\n",
       "      <td>0.942857</td>\n",
       "      <td>0.909091</td>\n",
       "      <td>0.93750</td>\n",
       "      <td>0.93</td>\n",
       "      <td>0.014837</td>\n",
       "      <td>6</td>\n",
       "      <td>1.000000</td>\n",
       "      <td>1.000000</td>\n",
       "      <td>1.000000</td>\n",
       "      <td>1.000000</td>\n",
       "      <td>0.000000</td>\n",
       "    </tr>\n",
       "    <tr>\n",
       "      <th>17</th>\n",
       "      <td>0.106298</td>\n",
       "      <td>0.001903</td>\n",
       "      <td>0.012386</td>\n",
       "      <td>0.001050</td>\n",
       "      <td>20</td>\n",
       "      <td>100</td>\n",
       "      <td>{'max_depth': 20, 'n_estimators': 100}</td>\n",
       "      <td>0.942857</td>\n",
       "      <td>0.909091</td>\n",
       "      <td>0.93750</td>\n",
       "      <td>0.93</td>\n",
       "      <td>0.014837</td>\n",
       "      <td>6</td>\n",
       "      <td>1.000000</td>\n",
       "      <td>1.000000</td>\n",
       "      <td>1.000000</td>\n",
       "      <td>1.000000</td>\n",
       "      <td>0.000000</td>\n",
       "    </tr>\n",
       "    <tr>\n",
       "      <th>18</th>\n",
       "      <td>0.002905</td>\n",
       "      <td>0.000165</td>\n",
       "      <td>0.001602</td>\n",
       "      <td>0.000338</td>\n",
       "      <td>50</td>\n",
       "      <td>1</td>\n",
       "      <td>{'max_depth': 50, 'n_estimators': 1}</td>\n",
       "      <td>0.942857</td>\n",
       "      <td>0.878788</td>\n",
       "      <td>0.93750</td>\n",
       "      <td>0.92</td>\n",
       "      <td>0.029006</td>\n",
       "      <td>22</td>\n",
       "      <td>0.984615</td>\n",
       "      <td>0.970149</td>\n",
       "      <td>1.000000</td>\n",
       "      <td>0.984922</td>\n",
       "      <td>0.012188</td>\n",
       "    </tr>\n",
       "    <tr>\n",
       "      <th>19</th>\n",
       "      <td>0.012527</td>\n",
       "      <td>0.001904</td>\n",
       "      <td>0.003828</td>\n",
       "      <td>0.001694</td>\n",
       "      <td>50</td>\n",
       "      <td>5</td>\n",
       "      <td>{'max_depth': 50, 'n_estimators': 5}</td>\n",
       "      <td>1.000000</td>\n",
       "      <td>0.909091</td>\n",
       "      <td>0.96875</td>\n",
       "      <td>0.96</td>\n",
       "      <td>0.037944</td>\n",
       "      <td>1</td>\n",
       "      <td>0.984615</td>\n",
       "      <td>1.000000</td>\n",
       "      <td>0.970588</td>\n",
       "      <td>0.985068</td>\n",
       "      <td>0.012012</td>\n",
       "    </tr>\n",
       "    <tr>\n",
       "      <th>20</th>\n",
       "      <td>0.012490</td>\n",
       "      <td>0.002039</td>\n",
       "      <td>0.002808</td>\n",
       "      <td>0.000472</td>\n",
       "      <td>50</td>\n",
       "      <td>10</td>\n",
       "      <td>{'max_depth': 50, 'n_estimators': 10}</td>\n",
       "      <td>0.942857</td>\n",
       "      <td>0.909091</td>\n",
       "      <td>0.93750</td>\n",
       "      <td>0.93</td>\n",
       "      <td>0.014837</td>\n",
       "      <td>6</td>\n",
       "      <td>1.000000</td>\n",
       "      <td>1.000000</td>\n",
       "      <td>1.000000</td>\n",
       "      <td>1.000000</td>\n",
       "      <td>0.000000</td>\n",
       "    </tr>\n",
       "    <tr>\n",
       "      <th>21</th>\n",
       "      <td>0.021882</td>\n",
       "      <td>0.002145</td>\n",
       "      <td>0.003971</td>\n",
       "      <td>0.000297</td>\n",
       "      <td>50</td>\n",
       "      <td>20</td>\n",
       "      <td>{'max_depth': 50, 'n_estimators': 20}</td>\n",
       "      <td>0.942857</td>\n",
       "      <td>0.909091</td>\n",
       "      <td>0.93750</td>\n",
       "      <td>0.93</td>\n",
       "      <td>0.014837</td>\n",
       "      <td>6</td>\n",
       "      <td>1.000000</td>\n",
       "      <td>1.000000</td>\n",
       "      <td>1.000000</td>\n",
       "      <td>1.000000</td>\n",
       "      <td>0.000000</td>\n",
       "    </tr>\n",
       "    <tr>\n",
       "      <th>22</th>\n",
       "      <td>0.063283</td>\n",
       "      <td>0.004992</td>\n",
       "      <td>0.007971</td>\n",
       "      <td>0.001483</td>\n",
       "      <td>50</td>\n",
       "      <td>50</td>\n",
       "      <td>{'max_depth': 50, 'n_estimators': 50}</td>\n",
       "      <td>0.942857</td>\n",
       "      <td>0.909091</td>\n",
       "      <td>0.93750</td>\n",
       "      <td>0.93</td>\n",
       "      <td>0.014837</td>\n",
       "      <td>6</td>\n",
       "      <td>1.000000</td>\n",
       "      <td>1.000000</td>\n",
       "      <td>1.000000</td>\n",
       "      <td>1.000000</td>\n",
       "      <td>0.000000</td>\n",
       "    </tr>\n",
       "    <tr>\n",
       "      <th>23</th>\n",
       "      <td>0.092031</td>\n",
       "      <td>0.005955</td>\n",
       "      <td>0.011149</td>\n",
       "      <td>0.001232</td>\n",
       "      <td>50</td>\n",
       "      <td>100</td>\n",
       "      <td>{'max_depth': 50, 'n_estimators': 100}</td>\n",
       "      <td>0.942857</td>\n",
       "      <td>0.909091</td>\n",
       "      <td>0.93750</td>\n",
       "      <td>0.93</td>\n",
       "      <td>0.014837</td>\n",
       "      <td>6</td>\n",
       "      <td>1.000000</td>\n",
       "      <td>1.000000</td>\n",
       "      <td>1.000000</td>\n",
       "      <td>1.000000</td>\n",
       "      <td>0.000000</td>\n",
       "    </tr>\n",
       "  </tbody>\n",
       "</table>\n",
       "</div>"
      ],
      "text/plain": [
       "    mean_fit_time  std_fit_time  mean_score_time  std_score_time  \\\n",
       "0        0.005436      0.000969         0.002399        0.000076   \n",
       "1        0.009164      0.002404         0.002449        0.000494   \n",
       "2        0.011109      0.000454         0.002614        0.000067   \n",
       "3        0.019250      0.000049         0.003587        0.000046   \n",
       "4        0.047983      0.003767         0.006612        0.001099   \n",
       "5        0.097265      0.009675         0.013006        0.000264   \n",
       "6        0.003648      0.000554         0.001410        0.000069   \n",
       "7        0.006927      0.000452         0.003033        0.000817   \n",
       "8        0.011723      0.001366         0.002524        0.000384   \n",
       "9        0.018709      0.000676         0.003447        0.000389   \n",
       "10       0.057672      0.018530         0.006178        0.000365   \n",
       "11       0.085102      0.000504         0.011212        0.000192   \n",
       "12       0.004276      0.000420         0.001611        0.000163   \n",
       "13       0.008062      0.001858         0.002234        0.000236   \n",
       "14       0.013284      0.000708         0.003441        0.000315   \n",
       "15       0.025053      0.001367         0.004181        0.000335   \n",
       "16       0.048836      0.002712         0.007209        0.000736   \n",
       "17       0.106298      0.001903         0.012386        0.001050   \n",
       "18       0.002905      0.000165         0.001602        0.000338   \n",
       "19       0.012527      0.001904         0.003828        0.001694   \n",
       "20       0.012490      0.002039         0.002808        0.000472   \n",
       "21       0.021882      0.002145         0.003971        0.000297   \n",
       "22       0.063283      0.004992         0.007971        0.001483   \n",
       "23       0.092031      0.005955         0.011149        0.001232   \n",
       "\n",
       "   param_max_depth param_n_estimators                                  params  \\\n",
       "0                5                  1     {'max_depth': 5, 'n_estimators': 1}   \n",
       "1                5                  5     {'max_depth': 5, 'n_estimators': 5}   \n",
       "2                5                 10    {'max_depth': 5, 'n_estimators': 10}   \n",
       "3                5                 20    {'max_depth': 5, 'n_estimators': 20}   \n",
       "4                5                 50    {'max_depth': 5, 'n_estimators': 50}   \n",
       "5                5                100   {'max_depth': 5, 'n_estimators': 100}   \n",
       "6               10                  1    {'max_depth': 10, 'n_estimators': 1}   \n",
       "7               10                  5    {'max_depth': 10, 'n_estimators': 5}   \n",
       "8               10                 10   {'max_depth': 10, 'n_estimators': 10}   \n",
       "9               10                 20   {'max_depth': 10, 'n_estimators': 20}   \n",
       "10              10                 50   {'max_depth': 10, 'n_estimators': 50}   \n",
       "11              10                100  {'max_depth': 10, 'n_estimators': 100}   \n",
       "12              20                  1    {'max_depth': 20, 'n_estimators': 1}   \n",
       "13              20                  5    {'max_depth': 20, 'n_estimators': 5}   \n",
       "14              20                 10   {'max_depth': 20, 'n_estimators': 10}   \n",
       "15              20                 20   {'max_depth': 20, 'n_estimators': 20}   \n",
       "16              20                 50   {'max_depth': 20, 'n_estimators': 50}   \n",
       "17              20                100  {'max_depth': 20, 'n_estimators': 100}   \n",
       "18              50                  1    {'max_depth': 50, 'n_estimators': 1}   \n",
       "19              50                  5    {'max_depth': 50, 'n_estimators': 5}   \n",
       "20              50                 10   {'max_depth': 50, 'n_estimators': 10}   \n",
       "21              50                 20   {'max_depth': 50, 'n_estimators': 20}   \n",
       "22              50                 50   {'max_depth': 50, 'n_estimators': 50}   \n",
       "23              50                100  {'max_depth': 50, 'n_estimators': 100}   \n",
       "\n",
       "    split0_test_score  split1_test_score  split2_test_score  mean_test_score  \\\n",
       "0            0.914286           0.909091            0.93750             0.92   \n",
       "1            0.971429           0.939394            0.93750             0.95   \n",
       "2            0.942857           0.909091            0.93750             0.93   \n",
       "3            0.942857           0.939394            0.93750             0.94   \n",
       "4            0.942857           0.909091            0.93750             0.93   \n",
       "5            0.942857           0.909091            0.93750             0.93   \n",
       "6            0.942857           0.909091            0.93750             0.93   \n",
       "7            0.942857           0.909091            0.93750             0.93   \n",
       "8            0.942857           0.909091            0.93750             0.93   \n",
       "9            0.942857           0.909091            0.93750             0.93   \n",
       "10           0.942857           0.909091            0.93750             0.93   \n",
       "11           0.942857           0.909091            0.93750             0.93   \n",
       "12           0.857143           0.969697            0.93750             0.92   \n",
       "13           1.000000           0.848485            0.96875             0.94   \n",
       "14           0.971429           0.939394            0.93750             0.95   \n",
       "15           0.942857           0.909091            0.93750             0.93   \n",
       "16           0.942857           0.909091            0.93750             0.93   \n",
       "17           0.942857           0.909091            0.93750             0.93   \n",
       "18           0.942857           0.878788            0.93750             0.92   \n",
       "19           1.000000           0.909091            0.96875             0.96   \n",
       "20           0.942857           0.909091            0.93750             0.93   \n",
       "21           0.942857           0.909091            0.93750             0.93   \n",
       "22           0.942857           0.909091            0.93750             0.93   \n",
       "23           0.942857           0.909091            0.93750             0.93   \n",
       "\n",
       "    std_test_score  rank_test_score  split0_train_score  split1_train_score  \\\n",
       "0         0.012194               22            0.969231            1.000000   \n",
       "1         0.015743                2            0.984615            1.000000   \n",
       "2         0.014837                6            0.984615            1.000000   \n",
       "3         0.002231                4            1.000000            1.000000   \n",
       "4         0.014837                6            1.000000            1.000000   \n",
       "5         0.014837                6            1.000000            1.000000   \n",
       "6         0.014837                6            0.938462            0.970149   \n",
       "7         0.014837                6            1.000000            1.000000   \n",
       "8         0.014837                6            0.984615            0.985075   \n",
       "9         0.014837                6            1.000000            1.000000   \n",
       "10        0.014837                6            1.000000            1.000000   \n",
       "11        0.014837                6            1.000000            1.000000   \n",
       "12        0.047915               22            0.892308            0.970149   \n",
       "13        0.065485                4            0.984615            0.985075   \n",
       "14        0.015743                2            1.000000            1.000000   \n",
       "15        0.014837                6            1.000000            1.000000   \n",
       "16        0.014837                6            1.000000            1.000000   \n",
       "17        0.014837                6            1.000000            1.000000   \n",
       "18        0.029006               22            0.984615            0.970149   \n",
       "19        0.037944                1            0.984615            1.000000   \n",
       "20        0.014837                6            1.000000            1.000000   \n",
       "21        0.014837                6            1.000000            1.000000   \n",
       "22        0.014837                6            1.000000            1.000000   \n",
       "23        0.014837                6            1.000000            1.000000   \n",
       "\n",
       "    split2_train_score  mean_train_score  std_train_score  \n",
       "0             1.000000          0.989744         0.014505  \n",
       "1             1.000000          0.994872         0.007252  \n",
       "2             0.985294          0.989970         0.007098  \n",
       "3             1.000000          1.000000         0.000000  \n",
       "4             1.000000          1.000000         0.000000  \n",
       "5             1.000000          1.000000         0.000000  \n",
       "6             0.985294          0.964635         0.019513  \n",
       "7             1.000000          1.000000         0.000000  \n",
       "8             0.985294          0.984995         0.000283  \n",
       "9             1.000000          1.000000         0.000000  \n",
       "10            1.000000          1.000000         0.000000  \n",
       "11            1.000000          1.000000         0.000000  \n",
       "12            1.000000          0.954152         0.045397  \n",
       "13            0.985294          0.984995         0.000283  \n",
       "14            1.000000          1.000000         0.000000  \n",
       "15            1.000000          1.000000         0.000000  \n",
       "16            1.000000          1.000000         0.000000  \n",
       "17            1.000000          1.000000         0.000000  \n",
       "18            1.000000          0.984922         0.012188  \n",
       "19            0.970588          0.985068         0.012012  \n",
       "20            1.000000          1.000000         0.000000  \n",
       "21            1.000000          1.000000         0.000000  \n",
       "22            1.000000          1.000000         0.000000  \n",
       "23            1.000000          1.000000         0.000000  "
      ]
     },
     "execution_count": 80,
     "metadata": {},
     "output_type": "execute_result"
    }
   ],
   "source": [
    "pd.DataFrame(gridcv.cv_results_)"
   ]
  },
  {
   "cell_type": "code",
   "execution_count": null,
   "metadata": {},
   "outputs": [],
   "source": []
  }
 ],
 "metadata": {
  "kernelspec": {
   "display_name": "Python 3",
   "language": "python",
   "name": "python3"
  },
  "language_info": {
   "codemirror_mode": {
    "name": "ipython",
    "version": 3
   },
   "file_extension": ".py",
   "mimetype": "text/x-python",
   "name": "python",
   "nbconvert_exporter": "python",
   "pygments_lexer": "ipython3",
   "version": "3.8.2"
  }
 },
 "nbformat": 4,
 "nbformat_minor": 2
}
