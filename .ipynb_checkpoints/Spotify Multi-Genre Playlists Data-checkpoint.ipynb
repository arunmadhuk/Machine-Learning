{
 "cells": [
  {
   "cell_type": "markdown",
   "metadata": {},
   "source": [
    "# Spotify Multi-Genre Playlists Data"
   ]
  },
  {
   "cell_type": "markdown",
   "metadata": {},
   "source": [
    "Kaggle Data Link : https://www.kaggle.com/siropo/spotify-multigenre-playlists-data"
   ]
  },
  {
   "cell_type": "markdown",
   "metadata": {},
   "source": [
    "###### Context\n",
    "\n",
    "Once I heard Spotify sports its own public audio features available for each and every track and to anyone who wants to use them, I knew I wanted to analyize my own musical taste - and for that, we need some frame of reference. So here we are!\n",
    "\n",
    "###### *Content*\n",
    "\n",
    "7 Different datasets, one for each Spotify category including: rock,blues,metal,hiphop,indie,pop and indie (might add more when I got the time later on)..\n",
    "Each row includes each track's audio features, its playlist of origin, the creating artist's genre, and more!\n",
    "\n",
    "More on Spotify's audio features\n",
    "\n",
    "######  Acknowledgements\n",
    "\n",
    "Wouldn't have been possible without Spotify for Developers and the Spotipy library for python, be sure to check both of these out if you'd like to try to get your own data yourself!\n",
    "\n",
    "Also, while we're on the topic, I obviously claim no ownership of the audio features provided here - it's all Spotify!\n",
    "\n",
    "######  Inspiration\n",
    "\n",
    "I should note there are bigger, more comprehensive Spotify datasets in here such as this one, for example , however this dataset has everything you need to do some quality track analysis, with it divided into different categories (while still sporting a coherent data structure). Furthermore, since I gathered these tracks from Spotify's official playlists available at my region, you can easily do some interesting commercial playlist analysis using this data."
   ]
  },
  {
   "cell_type": "code",
   "execution_count": null,
   "metadata": {},
   "outputs": [],
   "source": []
  }
 ],
 "metadata": {
  "kernelspec": {
   "display_name": "Python 3",
   "language": "python",
   "name": "python3"
  },
  "language_info": {
   "codemirror_mode": {
    "name": "ipython",
    "version": 3
   },
   "file_extension": ".py",
   "mimetype": "text/x-python",
   "name": "python",
   "nbconvert_exporter": "python",
   "pygments_lexer": "ipython3",
   "version": "3.8.2"
  }
 },
 "nbformat": 4,
 "nbformat_minor": 4
}
