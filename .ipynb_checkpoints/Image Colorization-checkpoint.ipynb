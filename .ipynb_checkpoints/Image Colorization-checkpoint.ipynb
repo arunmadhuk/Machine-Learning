{
 "cells": [
  {
   "cell_type": "markdown",
   "metadata": {},
   "source": [
    "# Image Colorization\n",
    "Image Colorizing dataset consisting of 25k 224x224 grayscale and normal images.\n",
    "\n",
    "##### LAB COLOR SPACE\n",
    "##### Context\n",
    "We are working on the project of automatic Image colorization for the Texas Innovation Challenge(TIC). Hence for the training of the model I had to create this dataset, wherein gray scale images are taken as input and a and b components of LAB color space are taken as output. This is the first dataset I ever created , so please do share your reviews on it :):)\n",
    "\n",
    "##### Content\n",
    "The dataset consists of two compressed zip files:\n",
    "(1) ab.zip : This contains 25 .npy files consisting of a and b dimensions of LAB color space images, of the MIRFLICKR25k randomly sized colored image dataset. The LAB color space generally takes up large disk spaces, hence is a lot slower to load. That is the reason, I divided this into 25 files, so that it can be loaded at the time of requirement.\n",
    "\n",
    "(2) l.zip : This consists of a gray_scale.npy file which is the grayscale version of the MIRFLICKR25k dataset.\n",
    "\n",
    "The image dataset which I used was taken from the MIRFLICKR25k ."
   ]
  },
  {
   "cell_type": "markdown",
   "metadata": {},
   "source": [
    "Kaggle data set : https://www.kaggle.com/shravankumar9892/image-colorization\n",
    "\n",
    "reference project : https://www.kaggle.com/shravankumar9892/colorization-dataset"
   ]
  },
  {
   "cell_type": "code",
   "execution_count": null,
   "metadata": {},
   "outputs": [],
   "source": []
  }
 ],
 "metadata": {
  "kernelspec": {
   "display_name": "Python 3",
   "language": "python",
   "name": "python3"
  },
  "language_info": {
   "codemirror_mode": {
    "name": "ipython",
    "version": 3
   },
   "file_extension": ".py",
   "mimetype": "text/x-python",
   "name": "python",
   "nbconvert_exporter": "python",
   "pygments_lexer": "ipython3",
   "version": "3.8.2"
  }
 },
 "nbformat": 4,
 "nbformat_minor": 4
}
